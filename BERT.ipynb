{
 "cells": [
  {
   "cell_type": "code",
   "execution_count": 2,
   "id": "b7a27ff8-1d8e-4e81-bbdf-2d0384c11b60",
   "metadata": {},
   "outputs": [
    {
     "name": "stdout",
     "output_type": "stream",
     "text": [
      "Requirement already satisfied: scikit-learn in /opt/conda/lib/python3.10/site-packages (1.3.0)\n",
      "Requirement already satisfied: numpy>=1.17.3 in /opt/conda/lib/python3.10/site-packages (from scikit-learn) (1.23.5)\n",
      "Requirement already satisfied: scipy>=1.5.0 in /opt/conda/lib/python3.10/site-packages (from scikit-learn) (1.10.1)\n",
      "Requirement already satisfied: joblib>=1.1.1 in /opt/conda/lib/python3.10/site-packages (from scikit-learn) (1.2.0)\n",
      "Requirement already satisfied: threadpoolctl>=2.0.0 in /opt/conda/lib/python3.10/site-packages (from scikit-learn) (3.1.0)\n",
      "\u001b[33mWARNING: Running pip as the 'root' user can result in broken permissions and conflicting behaviour with the system package manager. It is recommended to use a virtual environment instead: https://pip.pypa.io/warnings/venv\u001b[0m\u001b[33m\n",
      "\u001b[0m\n",
      "\u001b[1m[\u001b[0m\u001b[34;49mnotice\u001b[0m\u001b[1;39;49m]\u001b[0m\u001b[39;49m A new release of pip is available: \u001b[0m\u001b[31;49m23.1.2\u001b[0m\u001b[39;49m -> \u001b[0m\u001b[32;49m23.2\u001b[0m\n",
      "\u001b[1m[\u001b[0m\u001b[34;49mnotice\u001b[0m\u001b[1;39;49m]\u001b[0m\u001b[39;49m To update, run: \u001b[0m\u001b[32;49mpip install --upgrade pip\u001b[0m\n",
      "Requirement already satisfied: torch in /opt/conda/lib/python3.10/site-packages (2.0.0)\n",
      "Requirement already satisfied: filelock in /opt/conda/lib/python3.10/site-packages (from torch) (3.12.0)\n",
      "Requirement already satisfied: typing-extensions in /opt/conda/lib/python3.10/site-packages (from torch) (4.5.0)\n",
      "Requirement already satisfied: sympy in /opt/conda/lib/python3.10/site-packages (from torch) (1.11.1)\n",
      "Requirement already satisfied: networkx in /opt/conda/lib/python3.10/site-packages (from torch) (3.1)\n",
      "Requirement already satisfied: jinja2 in /opt/conda/lib/python3.10/site-packages (from torch) (3.1.2)\n",
      "Requirement already satisfied: MarkupSafe>=2.0 in /opt/conda/lib/python3.10/site-packages (from jinja2->torch) (2.1.2)\n",
      "Requirement already satisfied: mpmath>=0.19 in /opt/conda/lib/python3.10/site-packages (from sympy->torch) (1.3.0)\n",
      "\u001b[33mWARNING: Running pip as the 'root' user can result in broken permissions and conflicting behaviour with the system package manager. It is recommended to use a virtual environment instead: https://pip.pypa.io/warnings/venv\u001b[0m\u001b[33m\n",
      "\u001b[0m\n",
      "\u001b[1m[\u001b[0m\u001b[34;49mnotice\u001b[0m\u001b[1;39;49m]\u001b[0m\u001b[39;49m A new release of pip is available: \u001b[0m\u001b[31;49m23.1.2\u001b[0m\u001b[39;49m -> \u001b[0m\u001b[32;49m23.2\u001b[0m\n",
      "\u001b[1m[\u001b[0m\u001b[34;49mnotice\u001b[0m\u001b[1;39;49m]\u001b[0m\u001b[39;49m To update, run: \u001b[0m\u001b[32;49mpip install --upgrade pip\u001b[0m\n",
      "Requirement already satisfied: pytorch-transformers in /opt/conda/lib/python3.10/site-packages (1.2.0)\n",
      "Requirement already satisfied: torch>=1.0.0 in /opt/conda/lib/python3.10/site-packages (from pytorch-transformers) (2.0.0)\n",
      "Requirement already satisfied: numpy in /opt/conda/lib/python3.10/site-packages (from pytorch-transformers) (1.23.5)\n",
      "Requirement already satisfied: boto3 in /opt/conda/lib/python3.10/site-packages (from pytorch-transformers) (1.26.132)\n",
      "Requirement already satisfied: requests in /opt/conda/lib/python3.10/site-packages (from pytorch-transformers) (2.28.2)\n",
      "Requirement already satisfied: tqdm in /opt/conda/lib/python3.10/site-packages (from pytorch-transformers) (4.65.0)\n",
      "Requirement already satisfied: regex in /opt/conda/lib/python3.10/site-packages (from pytorch-transformers) (2023.6.3)\n",
      "Requirement already satisfied: sentencepiece in /opt/conda/lib/python3.10/site-packages (from pytorch-transformers) (0.1.99)\n",
      "Requirement already satisfied: sacremoses in /opt/conda/lib/python3.10/site-packages (from pytorch-transformers) (0.0.53)\n",
      "Requirement already satisfied: filelock in /opt/conda/lib/python3.10/site-packages (from torch>=1.0.0->pytorch-transformers) (3.12.0)\n",
      "Requirement already satisfied: typing-extensions in /opt/conda/lib/python3.10/site-packages (from torch>=1.0.0->pytorch-transformers) (4.5.0)\n",
      "Requirement already satisfied: sympy in /opt/conda/lib/python3.10/site-packages (from torch>=1.0.0->pytorch-transformers) (1.11.1)\n",
      "Requirement already satisfied: networkx in /opt/conda/lib/python3.10/site-packages (from torch>=1.0.0->pytorch-transformers) (3.1)\n",
      "Requirement already satisfied: jinja2 in /opt/conda/lib/python3.10/site-packages (from torch>=1.0.0->pytorch-transformers) (3.1.2)\n",
      "Requirement already satisfied: botocore<1.30.0,>=1.29.132 in /opt/conda/lib/python3.10/site-packages (from boto3->pytorch-transformers) (1.29.132)\n",
      "Requirement already satisfied: jmespath<2.0.0,>=0.7.1 in /opt/conda/lib/python3.10/site-packages (from boto3->pytorch-transformers) (1.0.1)\n",
      "Requirement already satisfied: s3transfer<0.7.0,>=0.6.0 in /opt/conda/lib/python3.10/site-packages (from boto3->pytorch-transformers) (0.6.1)\n",
      "Requirement already satisfied: charset-normalizer<4,>=2 in /opt/conda/lib/python3.10/site-packages (from requests->pytorch-transformers) (3.1.0)\n",
      "Requirement already satisfied: idna<4,>=2.5 in /opt/conda/lib/python3.10/site-packages (from requests->pytorch-transformers) (3.4)\n",
      "Requirement already satisfied: urllib3<1.27,>=1.21.1 in /opt/conda/lib/python3.10/site-packages (from requests->pytorch-transformers) (1.26.15)\n",
      "Requirement already satisfied: certifi>=2017.4.17 in /opt/conda/lib/python3.10/site-packages (from requests->pytorch-transformers) (2023.5.7)\n",
      "Requirement already satisfied: six in /opt/conda/lib/python3.10/site-packages (from sacremoses->pytorch-transformers) (1.16.0)\n",
      "Requirement already satisfied: click in /opt/conda/lib/python3.10/site-packages (from sacremoses->pytorch-transformers) (8.1.3)\n",
      "Requirement already satisfied: joblib in /opt/conda/lib/python3.10/site-packages (from sacremoses->pytorch-transformers) (1.2.0)\n",
      "Requirement already satisfied: python-dateutil<3.0.0,>=2.1 in /opt/conda/lib/python3.10/site-packages (from botocore<1.30.0,>=1.29.132->boto3->pytorch-transformers) (2.8.2)\n",
      "Requirement already satisfied: MarkupSafe>=2.0 in /opt/conda/lib/python3.10/site-packages (from jinja2->torch>=1.0.0->pytorch-transformers) (2.1.2)\n",
      "Requirement already satisfied: mpmath>=0.19 in /opt/conda/lib/python3.10/site-packages (from sympy->torch>=1.0.0->pytorch-transformers) (1.3.0)\n",
      "\u001b[33mWARNING: Running pip as the 'root' user can result in broken permissions and conflicting behaviour with the system package manager. It is recommended to use a virtual environment instead: https://pip.pypa.io/warnings/venv\u001b[0m\u001b[33m\n",
      "\u001b[0m\n",
      "\u001b[1m[\u001b[0m\u001b[34;49mnotice\u001b[0m\u001b[1;39;49m]\u001b[0m\u001b[39;49m A new release of pip is available: \u001b[0m\u001b[31;49m23.1.2\u001b[0m\u001b[39;49m -> \u001b[0m\u001b[32;49m23.2\u001b[0m\n",
      "\u001b[1m[\u001b[0m\u001b[34;49mnotice\u001b[0m\u001b[1;39;49m]\u001b[0m\u001b[39;49m To update, run: \u001b[0m\u001b[32;49mpip install --upgrade pip\u001b[0m\n",
      "Requirement already satisfied: accelerate in /opt/conda/lib/python3.10/site-packages (0.21.0)\n",
      "Requirement already satisfied: numpy>=1.17 in /opt/conda/lib/python3.10/site-packages (from accelerate) (1.23.5)\n",
      "Requirement already satisfied: packaging>=20.0 in /opt/conda/lib/python3.10/site-packages (from accelerate) (23.1)\n",
      "Requirement already satisfied: psutil in /opt/conda/lib/python3.10/site-packages (from accelerate) (5.9.5)\n",
      "Requirement already satisfied: pyyaml in /opt/conda/lib/python3.10/site-packages (from accelerate) (5.4.1)\n",
      "Requirement already satisfied: torch>=1.10.0 in /opt/conda/lib/python3.10/site-packages (from accelerate) (2.0.0)\n",
      "Requirement already satisfied: filelock in /opt/conda/lib/python3.10/site-packages (from torch>=1.10.0->accelerate) (3.12.0)\n",
      "Requirement already satisfied: typing-extensions in /opt/conda/lib/python3.10/site-packages (from torch>=1.10.0->accelerate) (4.5.0)\n",
      "Requirement already satisfied: sympy in /opt/conda/lib/python3.10/site-packages (from torch>=1.10.0->accelerate) (1.11.1)\n",
      "Requirement already satisfied: networkx in /opt/conda/lib/python3.10/site-packages (from torch>=1.10.0->accelerate) (3.1)\n",
      "Requirement already satisfied: jinja2 in /opt/conda/lib/python3.10/site-packages (from torch>=1.10.0->accelerate) (3.1.2)\n",
      "Requirement already satisfied: MarkupSafe>=2.0 in /opt/conda/lib/python3.10/site-packages (from jinja2->torch>=1.10.0->accelerate) (2.1.2)\n",
      "Requirement already satisfied: mpmath>=0.19 in /opt/conda/lib/python3.10/site-packages (from sympy->torch>=1.10.0->accelerate) (1.3.0)\n",
      "\u001b[33mWARNING: Running pip as the 'root' user can result in broken permissions and conflicting behaviour with the system package manager. It is recommended to use a virtual environment instead: https://pip.pypa.io/warnings/venv\u001b[0m\u001b[33m\n",
      "\u001b[0m\n",
      "\u001b[1m[\u001b[0m\u001b[34;49mnotice\u001b[0m\u001b[1;39;49m]\u001b[0m\u001b[39;49m A new release of pip is available: \u001b[0m\u001b[31;49m23.1.2\u001b[0m\u001b[39;49m -> \u001b[0m\u001b[32;49m23.2\u001b[0m\n",
      "\u001b[1m[\u001b[0m\u001b[34;49mnotice\u001b[0m\u001b[1;39;49m]\u001b[0m\u001b[39;49m To update, run: \u001b[0m\u001b[32;49mpip install --upgrade pip\u001b[0m\n",
      "Requirement already satisfied: transformers in /opt/conda/lib/python3.10/site-packages (4.31.0)\n",
      "Requirement already satisfied: filelock in /opt/conda/lib/python3.10/site-packages (from transformers) (3.12.0)\n",
      "Requirement already satisfied: huggingface-hub<1.0,>=0.14.1 in /opt/conda/lib/python3.10/site-packages (from transformers) (0.16.4)\n",
      "Requirement already satisfied: numpy>=1.17 in /opt/conda/lib/python3.10/site-packages (from transformers) (1.23.5)\n",
      "Requirement already satisfied: packaging>=20.0 in /opt/conda/lib/python3.10/site-packages (from transformers) (23.1)\n",
      "Requirement already satisfied: pyyaml>=5.1 in /opt/conda/lib/python3.10/site-packages (from transformers) (5.4.1)\n",
      "Requirement already satisfied: regex!=2019.12.17 in /opt/conda/lib/python3.10/site-packages (from transformers) (2023.6.3)\n",
      "Requirement already satisfied: requests in /opt/conda/lib/python3.10/site-packages (from transformers) (2.28.2)\n",
      "Requirement already satisfied: tokenizers!=0.11.3,<0.14,>=0.11.1 in /opt/conda/lib/python3.10/site-packages (from transformers) (0.13.3)\n",
      "Requirement already satisfied: safetensors>=0.3.1 in /opt/conda/lib/python3.10/site-packages (from transformers) (0.3.1)\n",
      "Requirement already satisfied: tqdm>=4.27 in /opt/conda/lib/python3.10/site-packages (from transformers) (4.65.0)\n",
      "Requirement already satisfied: fsspec in /opt/conda/lib/python3.10/site-packages (from huggingface-hub<1.0,>=0.14.1->transformers) (2023.5.0)\n",
      "Requirement already satisfied: typing-extensions>=3.7.4.3 in /opt/conda/lib/python3.10/site-packages (from huggingface-hub<1.0,>=0.14.1->transformers) (4.5.0)\n",
      "Requirement already satisfied: charset-normalizer<4,>=2 in /opt/conda/lib/python3.10/site-packages (from requests->transformers) (3.1.0)\n",
      "Requirement already satisfied: idna<4,>=2.5 in /opt/conda/lib/python3.10/site-packages (from requests->transformers) (3.4)\n",
      "Requirement already satisfied: urllib3<1.27,>=1.21.1 in /opt/conda/lib/python3.10/site-packages (from requests->transformers) (1.26.15)\n",
      "Requirement already satisfied: certifi>=2017.4.17 in /opt/conda/lib/python3.10/site-packages (from requests->transformers) (2023.5.7)\n",
      "\u001b[33mWARNING: Running pip as the 'root' user can result in broken permissions and conflicting behaviour with the system package manager. It is recommended to use a virtual environment instead: https://pip.pypa.io/warnings/venv\u001b[0m\u001b[33m\n",
      "\u001b[0m\n",
      "\u001b[1m[\u001b[0m\u001b[34;49mnotice\u001b[0m\u001b[1;39;49m]\u001b[0m\u001b[39;49m A new release of pip is available: \u001b[0m\u001b[31;49m23.1.2\u001b[0m\u001b[39;49m -> \u001b[0m\u001b[32;49m23.2\u001b[0m\n",
      "\u001b[1m[\u001b[0m\u001b[34;49mnotice\u001b[0m\u001b[1;39;49m]\u001b[0m\u001b[39;49m To update, run: \u001b[0m\u001b[32;49mpip install --upgrade pip\u001b[0m\n"
     ]
    }
   ],
   "source": [
    "!pip install -U scikit-learn\n",
    "!pip install torch\n",
    "!pip install pytorch-transformers\n",
    "!pip install accelerate -U\n",
    "!pip install transformers"
   ]
  },
  {
   "cell_type": "code",
   "execution_count": 3,
   "id": "316a587b-81e0-45ce-9970-3538f593d305",
   "metadata": {},
   "outputs": [],
   "source": [
    "from sagemaker import get_execution_role #this contains the permissions to access the bucket\n",
    "import boto3 #aws python client\n",
    "import pandas as pd\n",
    "s3 = boto3.client('s3') #connect to S3\n",
    "bucketName = \"cs539-e2023-149b5d57-81a4-4e31-a476-c81e7e07dc33\""
   ]
  },
  {
   "cell_type": "code",
   "execution_count": 4,
   "id": "cf4e6332-d0a7-47c7-9ef9-f1e320c8d126",
   "metadata": {},
   "outputs": [
    {
     "name": "stdout",
     "output_type": "stream",
     "text": [
      "Collecting sagemaker-datawrangler\n",
      "  Using cached sagemaker_datawrangler-0.4.3-py3-none-any.whl (10.6 MB)\n",
      "Collecting sagemaker-data-insights==0.4.0 (from sagemaker-datawrangler)\n",
      "  Using cached sagemaker_data_insights-0.4.0-py3-none-any.whl (99 kB)\n",
      "Collecting ipywidgets<8.0.0 (from sagemaker-datawrangler)\n",
      "  Using cached ipywidgets-7.7.5-py2.py3-none-any.whl (123 kB)\n",
      "Requirement already satisfied: numpy>=1.21.6 in /opt/conda/lib/python3.10/site-packages (from sagemaker-data-insights==0.4.0->sagemaker-datawrangler) (1.23.5)\n",
      "Requirement already satisfied: psutil>=5.6.7 in /opt/conda/lib/python3.10/site-packages (from sagemaker-data-insights==0.4.0->sagemaker-datawrangler) (5.9.5)\n",
      "Requirement already satisfied: pandas>=1.1.4 in /opt/conda/lib/python3.10/site-packages (from sagemaker-data-insights==0.4.0->sagemaker-datawrangler) (2.0.1)\n",
      "Requirement already satisfied: scikit-learn>=0.22.1 in /opt/conda/lib/python3.10/site-packages (from sagemaker-data-insights==0.4.0->sagemaker-datawrangler) (1.2.2)\n",
      "Requirement already satisfied: scipy>=1.4.1 in /opt/conda/lib/python3.10/site-packages (from sagemaker-data-insights==0.4.0->sagemaker-datawrangler) (1.10.1)\n",
      "Collecting sagemaker-scikit-learn-extension==2.5.0 (from sagemaker-data-insights==0.4.0->sagemaker-datawrangler)\n",
      "  Using cached sagemaker_scikit_learn_extension-2.5.0-py3-none-any.whl\n",
      "Requirement already satisfied: ipykernel>=4.5.1 in /opt/conda/lib/python3.10/site-packages (from ipywidgets<8.0.0->sagemaker-datawrangler) (6.23.0)\n",
      "Collecting ipython-genutils~=0.2.0 (from ipywidgets<8.0.0->sagemaker-datawrangler)\n",
      "  Using cached ipython_genutils-0.2.0-py2.py3-none-any.whl (26 kB)\n",
      "Requirement already satisfied: traitlets>=4.3.1 in /opt/conda/lib/python3.10/site-packages (from ipywidgets<8.0.0->sagemaker-datawrangler) (5.9.0)\n",
      "Collecting widgetsnbextension~=3.6.4 (from ipywidgets<8.0.0->sagemaker-datawrangler)\n",
      "  Using cached widgetsnbextension-3.6.4-py2.py3-none-any.whl (1.6 MB)\n",
      "Requirement already satisfied: ipython>=4.0.0 in /opt/conda/lib/python3.10/site-packages (from ipywidgets<8.0.0->sagemaker-datawrangler) (8.13.2)\n",
      "Collecting jupyterlab-widgets<3,>=1.0.0 (from ipywidgets<8.0.0->sagemaker-datawrangler)\n",
      "  Using cached jupyterlab_widgets-1.1.4-py3-none-any.whl (246 kB)\n",
      "Requirement already satisfied: comm>=0.1.1 in /opt/conda/lib/python3.10/site-packages (from ipykernel>=4.5.1->ipywidgets<8.0.0->sagemaker-datawrangler) (0.1.3)\n",
      "Requirement already satisfied: debugpy>=1.6.5 in /opt/conda/lib/python3.10/site-packages (from ipykernel>=4.5.1->ipywidgets<8.0.0->sagemaker-datawrangler) (1.6.7)\n",
      "Requirement already satisfied: jupyter-client>=6.1.12 in /opt/conda/lib/python3.10/site-packages (from ipykernel>=4.5.1->ipywidgets<8.0.0->sagemaker-datawrangler) (8.2.0)\n",
      "Requirement already satisfied: jupyter-core!=5.0.*,>=4.12 in /opt/conda/lib/python3.10/site-packages (from ipykernel>=4.5.1->ipywidgets<8.0.0->sagemaker-datawrangler) (5.3.0)\n",
      "Requirement already satisfied: matplotlib-inline>=0.1 in /opt/conda/lib/python3.10/site-packages (from ipykernel>=4.5.1->ipywidgets<8.0.0->sagemaker-datawrangler) (0.1.6)\n",
      "Requirement already satisfied: nest-asyncio in /opt/conda/lib/python3.10/site-packages (from ipykernel>=4.5.1->ipywidgets<8.0.0->sagemaker-datawrangler) (1.5.6)\n",
      "Requirement already satisfied: packaging in /opt/conda/lib/python3.10/site-packages (from ipykernel>=4.5.1->ipywidgets<8.0.0->sagemaker-datawrangler) (23.1)\n",
      "Requirement already satisfied: pyzmq>=20 in /opt/conda/lib/python3.10/site-packages (from ipykernel>=4.5.1->ipywidgets<8.0.0->sagemaker-datawrangler) (25.0.2)\n",
      "Requirement already satisfied: tornado>=6.1 in /opt/conda/lib/python3.10/site-packages (from ipykernel>=4.5.1->ipywidgets<8.0.0->sagemaker-datawrangler) (6.3)\n",
      "Requirement already satisfied: backcall in /opt/conda/lib/python3.10/site-packages (from ipython>=4.0.0->ipywidgets<8.0.0->sagemaker-datawrangler) (0.2.0)\n",
      "Requirement already satisfied: decorator in /opt/conda/lib/python3.10/site-packages (from ipython>=4.0.0->ipywidgets<8.0.0->sagemaker-datawrangler) (5.1.1)\n",
      "Requirement already satisfied: jedi>=0.16 in /opt/conda/lib/python3.10/site-packages (from ipython>=4.0.0->ipywidgets<8.0.0->sagemaker-datawrangler) (0.18.2)\n",
      "Requirement already satisfied: pickleshare in /opt/conda/lib/python3.10/site-packages (from ipython>=4.0.0->ipywidgets<8.0.0->sagemaker-datawrangler) (0.7.5)\n",
      "Requirement already satisfied: prompt-toolkit!=3.0.37,<3.1.0,>=3.0.30 in /opt/conda/lib/python3.10/site-packages (from ipython>=4.0.0->ipywidgets<8.0.0->sagemaker-datawrangler) (3.0.38)\n",
      "Requirement already satisfied: pygments>=2.4.0 in /opt/conda/lib/python3.10/site-packages (from ipython>=4.0.0->ipywidgets<8.0.0->sagemaker-datawrangler) (2.15.1)\n",
      "Requirement already satisfied: stack-data in /opt/conda/lib/python3.10/site-packages (from ipython>=4.0.0->ipywidgets<8.0.0->sagemaker-datawrangler) (0.6.2)\n",
      "Requirement already satisfied: pexpect>4.3 in /opt/conda/lib/python3.10/site-packages (from ipython>=4.0.0->ipywidgets<8.0.0->sagemaker-datawrangler) (4.8.0)\n",
      "Requirement already satisfied: python-dateutil>=2.8.2 in /opt/conda/lib/python3.10/site-packages (from pandas>=1.1.4->sagemaker-data-insights==0.4.0->sagemaker-datawrangler) (2.8.2)\n",
      "Requirement already satisfied: pytz>=2020.1 in /opt/conda/lib/python3.10/site-packages (from pandas>=1.1.4->sagemaker-data-insights==0.4.0->sagemaker-datawrangler) (2023.3)\n",
      "Requirement already satisfied: tzdata>=2022.1 in /opt/conda/lib/python3.10/site-packages (from pandas>=1.1.4->sagemaker-data-insights==0.4.0->sagemaker-datawrangler) (2023.3)\n",
      "Requirement already satisfied: joblib>=1.1.1 in /opt/conda/lib/python3.10/site-packages (from scikit-learn>=0.22.1->sagemaker-data-insights==0.4.0->sagemaker-datawrangler) (1.2.0)\n",
      "Requirement already satisfied: threadpoolctl>=2.0.0 in /opt/conda/lib/python3.10/site-packages (from scikit-learn>=0.22.1->sagemaker-data-insights==0.4.0->sagemaker-datawrangler) (3.1.0)\n",
      "Collecting notebook>=4.4.1 (from widgetsnbextension~=3.6.4->ipywidgets<8.0.0->sagemaker-datawrangler)\n",
      "  Using cached notebook-7.0.0-py3-none-any.whl (4.0 MB)\n",
      "Requirement already satisfied: parso<0.9.0,>=0.8.0 in /opt/conda/lib/python3.10/site-packages (from jedi>=0.16->ipython>=4.0.0->ipywidgets<8.0.0->sagemaker-datawrangler) (0.8.3)\n",
      "Requirement already satisfied: platformdirs>=2.5 in /opt/conda/lib/python3.10/site-packages (from jupyter-core!=5.0.*,>=4.12->ipykernel>=4.5.1->ipywidgets<8.0.0->sagemaker-datawrangler) (3.5.0)\n",
      "Collecting jupyter-server<3,>=2.4.0 (from notebook>=4.4.1->widgetsnbextension~=3.6.4->ipywidgets<8.0.0->sagemaker-datawrangler)\n",
      "  Using cached jupyter_server-2.7.0-py3-none-any.whl (375 kB)\n",
      "Collecting jupyterlab-server<3,>=2.22.1 (from notebook>=4.4.1->widgetsnbextension~=3.6.4->ipywidgets<8.0.0->sagemaker-datawrangler)\n",
      "  Using cached jupyterlab_server-2.24.0-py3-none-any.whl (57 kB)\n",
      "Collecting jupyterlab<5,>=4.0.2 (from notebook>=4.4.1->widgetsnbextension~=3.6.4->ipywidgets<8.0.0->sagemaker-datawrangler)\n",
      "  Using cached jupyterlab-4.0.3-py3-none-any.whl (9.2 MB)\n",
      "Collecting notebook-shim<0.3,>=0.2 (from notebook>=4.4.1->widgetsnbextension~=3.6.4->ipywidgets<8.0.0->sagemaker-datawrangler)\n",
      "  Using cached notebook_shim-0.2.3-py3-none-any.whl (13 kB)\n",
      "Requirement already satisfied: ptyprocess>=0.5 in /opt/conda/lib/python3.10/site-packages (from pexpect>4.3->ipython>=4.0.0->ipywidgets<8.0.0->sagemaker-datawrangler) (0.7.0)\n",
      "Requirement already satisfied: wcwidth in /opt/conda/lib/python3.10/site-packages (from prompt-toolkit!=3.0.37,<3.1.0,>=3.0.30->ipython>=4.0.0->ipywidgets<8.0.0->sagemaker-datawrangler) (0.2.6)\n",
      "Requirement already satisfied: six>=1.5 in /opt/conda/lib/python3.10/site-packages (from python-dateutil>=2.8.2->pandas>=1.1.4->sagemaker-data-insights==0.4.0->sagemaker-datawrangler) (1.16.0)\n",
      "Requirement already satisfied: executing>=1.2.0 in /opt/conda/lib/python3.10/site-packages (from stack-data->ipython>=4.0.0->ipywidgets<8.0.0->sagemaker-datawrangler) (1.2.0)\n",
      "Requirement already satisfied: asttokens>=2.1.0 in /opt/conda/lib/python3.10/site-packages (from stack-data->ipython>=4.0.0->ipywidgets<8.0.0->sagemaker-datawrangler) (2.2.1)\n",
      "Requirement already satisfied: pure-eval in /opt/conda/lib/python3.10/site-packages (from stack-data->ipython>=4.0.0->ipywidgets<8.0.0->sagemaker-datawrangler) (0.2.2)\n",
      "Collecting anyio>=3.1.0 (from jupyter-server<3,>=2.4.0->notebook>=4.4.1->widgetsnbextension~=3.6.4->ipywidgets<8.0.0->sagemaker-datawrangler)\n",
      "  Using cached anyio-3.7.1-py3-none-any.whl (80 kB)\n",
      "Collecting argon2-cffi (from jupyter-server<3,>=2.4.0->notebook>=4.4.1->widgetsnbextension~=3.6.4->ipywidgets<8.0.0->sagemaker-datawrangler)\n",
      "  Using cached argon2_cffi-21.3.0-py3-none-any.whl (14 kB)\n",
      "Requirement already satisfied: jinja2 in /opt/conda/lib/python3.10/site-packages (from jupyter-server<3,>=2.4.0->notebook>=4.4.1->widgetsnbextension~=3.6.4->ipywidgets<8.0.0->sagemaker-datawrangler) (3.1.2)\n",
      "Collecting jupyter-events>=0.6.0 (from jupyter-server<3,>=2.4.0->notebook>=4.4.1->widgetsnbextension~=3.6.4->ipywidgets<8.0.0->sagemaker-datawrangler)\n",
      "  Using cached jupyter_events-0.6.3-py3-none-any.whl (18 kB)\n",
      "Collecting jupyter-server-terminals (from jupyter-server<3,>=2.4.0->notebook>=4.4.1->widgetsnbextension~=3.6.4->ipywidgets<8.0.0->sagemaker-datawrangler)\n",
      "  Using cached jupyter_server_terminals-0.4.4-py3-none-any.whl (13 kB)\n",
      "Collecting nbconvert>=6.4.4 (from jupyter-server<3,>=2.4.0->notebook>=4.4.1->widgetsnbextension~=3.6.4->ipywidgets<8.0.0->sagemaker-datawrangler)\n",
      "  Using cached nbconvert-7.7.2-py3-none-any.whl (254 kB)\n",
      "Collecting nbformat>=5.3.0 (from jupyter-server<3,>=2.4.0->notebook>=4.4.1->widgetsnbextension~=3.6.4->ipywidgets<8.0.0->sagemaker-datawrangler)\n",
      "  Using cached nbformat-5.9.1-py3-none-any.whl (77 kB)\n",
      "Collecting overrides (from jupyter-server<3,>=2.4.0->notebook>=4.4.1->widgetsnbextension~=3.6.4->ipywidgets<8.0.0->sagemaker-datawrangler)\n",
      "  Using cached overrides-7.3.1-py3-none-any.whl (17 kB)\n",
      "Collecting prometheus-client (from jupyter-server<3,>=2.4.0->notebook>=4.4.1->widgetsnbextension~=3.6.4->ipywidgets<8.0.0->sagemaker-datawrangler)\n",
      "  Using cached prometheus_client-0.17.1-py3-none-any.whl (60 kB)\n",
      "Collecting send2trash (from jupyter-server<3,>=2.4.0->notebook>=4.4.1->widgetsnbextension~=3.6.4->ipywidgets<8.0.0->sagemaker-datawrangler)\n",
      "  Using cached Send2Trash-1.8.2-py3-none-any.whl (18 kB)\n",
      "Collecting terminado>=0.8.3 (from jupyter-server<3,>=2.4.0->notebook>=4.4.1->widgetsnbextension~=3.6.4->ipywidgets<8.0.0->sagemaker-datawrangler)\n",
      "  Using cached terminado-0.17.1-py3-none-any.whl (17 kB)\n",
      "Requirement already satisfied: websocket-client in /opt/conda/lib/python3.10/site-packages (from jupyter-server<3,>=2.4.0->notebook>=4.4.1->widgetsnbextension~=3.6.4->ipywidgets<8.0.0->sagemaker-datawrangler) (1.5.1)\n",
      "Collecting async-lru>=1.0.0 (from jupyterlab<5,>=4.0.2->notebook>=4.4.1->widgetsnbextension~=3.6.4->ipywidgets<8.0.0->sagemaker-datawrangler)\n",
      "  Using cached async_lru-2.0.3-py3-none-any.whl (6.0 kB)\n",
      "Collecting jupyter-lsp>=2.0.0 (from jupyterlab<5,>=4.0.2->notebook>=4.4.1->widgetsnbextension~=3.6.4->ipywidgets<8.0.0->sagemaker-datawrangler)\n",
      "  Using cached jupyter_lsp-2.2.0-py3-none-any.whl (65 kB)\n",
      "Requirement already satisfied: tomli in /opt/conda/lib/python3.10/site-packages (from jupyterlab<5,>=4.0.2->notebook>=4.4.1->widgetsnbextension~=3.6.4->ipywidgets<8.0.0->sagemaker-datawrangler) (2.0.1)\n",
      "Collecting babel>=2.10 (from jupyterlab-server<3,>=2.22.1->notebook>=4.4.1->widgetsnbextension~=3.6.4->ipywidgets<8.0.0->sagemaker-datawrangler)\n",
      "  Using cached Babel-2.12.1-py3-none-any.whl (10.1 MB)\n",
      "Collecting json5>=0.9.0 (from jupyterlab-server<3,>=2.22.1->notebook>=4.4.1->widgetsnbextension~=3.6.4->ipywidgets<8.0.0->sagemaker-datawrangler)\n",
      "  Using cached json5-0.9.14-py2.py3-none-any.whl (19 kB)\n",
      "Requirement already satisfied: jsonschema>=4.17.3 in /opt/conda/lib/python3.10/site-packages (from jupyterlab-server<3,>=2.22.1->notebook>=4.4.1->widgetsnbextension~=3.6.4->ipywidgets<8.0.0->sagemaker-datawrangler) (4.17.3)\n",
      "Requirement already satisfied: requests>=2.28 in /opt/conda/lib/python3.10/site-packages (from jupyterlab-server<3,>=2.22.1->notebook>=4.4.1->widgetsnbextension~=3.6.4->ipywidgets<8.0.0->sagemaker-datawrangler) (2.28.2)\n",
      "Requirement already satisfied: idna>=2.8 in /opt/conda/lib/python3.10/site-packages (from anyio>=3.1.0->jupyter-server<3,>=2.4.0->notebook>=4.4.1->widgetsnbextension~=3.6.4->ipywidgets<8.0.0->sagemaker-datawrangler) (3.4)\n",
      "Collecting sniffio>=1.1 (from anyio>=3.1.0->jupyter-server<3,>=2.4.0->notebook>=4.4.1->widgetsnbextension~=3.6.4->ipywidgets<8.0.0->sagemaker-datawrangler)\n",
      "  Using cached sniffio-1.3.0-py3-none-any.whl (10 kB)\n",
      "Collecting exceptiongroup (from anyio>=3.1.0->jupyter-server<3,>=2.4.0->notebook>=4.4.1->widgetsnbextension~=3.6.4->ipywidgets<8.0.0->sagemaker-datawrangler)\n",
      "  Using cached exceptiongroup-1.1.2-py3-none-any.whl (14 kB)\n",
      "Requirement already satisfied: typing-extensions>=4.0.0 in /opt/conda/lib/python3.10/site-packages (from async-lru>=1.0.0->jupyterlab<5,>=4.0.2->notebook>=4.4.1->widgetsnbextension~=3.6.4->ipywidgets<8.0.0->sagemaker-datawrangler) (4.5.0)\n",
      "Requirement already satisfied: MarkupSafe>=2.0 in /opt/conda/lib/python3.10/site-packages (from jinja2->jupyter-server<3,>=2.4.0->notebook>=4.4.1->widgetsnbextension~=3.6.4->ipywidgets<8.0.0->sagemaker-datawrangler) (2.1.2)\n",
      "Requirement already satisfied: attrs>=17.4.0 in /opt/conda/lib/python3.10/site-packages (from jsonschema>=4.17.3->jupyterlab-server<3,>=2.22.1->notebook>=4.4.1->widgetsnbextension~=3.6.4->ipywidgets<8.0.0->sagemaker-datawrangler) (22.2.0)\n",
      "Requirement already satisfied: pyrsistent!=0.17.0,!=0.17.1,!=0.17.2,>=0.14.0 in /opt/conda/lib/python3.10/site-packages (from jsonschema>=4.17.3->jupyterlab-server<3,>=2.22.1->notebook>=4.4.1->widgetsnbextension~=3.6.4->ipywidgets<8.0.0->sagemaker-datawrangler) (0.19.3)\n",
      "Collecting python-json-logger>=2.0.4 (from jupyter-events>=0.6.0->jupyter-server<3,>=2.4.0->notebook>=4.4.1->widgetsnbextension~=3.6.4->ipywidgets<8.0.0->sagemaker-datawrangler)\n",
      "  Using cached python_json_logger-2.0.7-py3-none-any.whl (8.1 kB)\n",
      "Requirement already satisfied: pyyaml>=5.3 in /opt/conda/lib/python3.10/site-packages (from jupyter-events>=0.6.0->jupyter-server<3,>=2.4.0->notebook>=4.4.1->widgetsnbextension~=3.6.4->ipywidgets<8.0.0->sagemaker-datawrangler) (5.4.1)\n",
      "Collecting rfc3339-validator (from jupyter-events>=0.6.0->jupyter-server<3,>=2.4.0->notebook>=4.4.1->widgetsnbextension~=3.6.4->ipywidgets<8.0.0->sagemaker-datawrangler)\n",
      "  Using cached rfc3339_validator-0.1.4-py2.py3-none-any.whl (3.5 kB)\n",
      "Collecting rfc3986-validator>=0.1.1 (from jupyter-events>=0.6.0->jupyter-server<3,>=2.4.0->notebook>=4.4.1->widgetsnbextension~=3.6.4->ipywidgets<8.0.0->sagemaker-datawrangler)\n",
      "  Using cached rfc3986_validator-0.1.1-py2.py3-none-any.whl (4.2 kB)\n",
      "Collecting beautifulsoup4 (from nbconvert>=6.4.4->jupyter-server<3,>=2.4.0->notebook>=4.4.1->widgetsnbextension~=3.6.4->ipywidgets<8.0.0->sagemaker-datawrangler)\n",
      "  Using cached beautifulsoup4-4.12.2-py3-none-any.whl (142 kB)\n",
      "Collecting bleach!=5.0.0 (from nbconvert>=6.4.4->jupyter-server<3,>=2.4.0->notebook>=4.4.1->widgetsnbextension~=3.6.4->ipywidgets<8.0.0->sagemaker-datawrangler)\n",
      "  Using cached bleach-6.0.0-py3-none-any.whl (162 kB)\n",
      "Collecting defusedxml (from nbconvert>=6.4.4->jupyter-server<3,>=2.4.0->notebook>=4.4.1->widgetsnbextension~=3.6.4->ipywidgets<8.0.0->sagemaker-datawrangler)\n",
      "  Using cached defusedxml-0.7.1-py2.py3-none-any.whl (25 kB)\n",
      "Collecting jupyterlab-pygments (from nbconvert>=6.4.4->jupyter-server<3,>=2.4.0->notebook>=4.4.1->widgetsnbextension~=3.6.4->ipywidgets<8.0.0->sagemaker-datawrangler)\n",
      "  Using cached jupyterlab_pygments-0.2.2-py2.py3-none-any.whl (21 kB)\n",
      "Collecting mistune<4,>=2.0.3 (from nbconvert>=6.4.4->jupyter-server<3,>=2.4.0->notebook>=4.4.1->widgetsnbextension~=3.6.4->ipywidgets<8.0.0->sagemaker-datawrangler)\n",
      "  Using cached mistune-3.0.1-py3-none-any.whl (47 kB)\n",
      "Collecting nbclient>=0.5.0 (from nbconvert>=6.4.4->jupyter-server<3,>=2.4.0->notebook>=4.4.1->widgetsnbextension~=3.6.4->ipywidgets<8.0.0->sagemaker-datawrangler)\n",
      "  Using cached nbclient-0.8.0-py3-none-any.whl (73 kB)\n",
      "Collecting pandocfilters>=1.4.1 (from nbconvert>=6.4.4->jupyter-server<3,>=2.4.0->notebook>=4.4.1->widgetsnbextension~=3.6.4->ipywidgets<8.0.0->sagemaker-datawrangler)\n",
      "  Using cached pandocfilters-1.5.0-py2.py3-none-any.whl (8.7 kB)\n",
      "Collecting tinycss2 (from nbconvert>=6.4.4->jupyter-server<3,>=2.4.0->notebook>=4.4.1->widgetsnbextension~=3.6.4->ipywidgets<8.0.0->sagemaker-datawrangler)\n",
      "  Using cached tinycss2-1.2.1-py3-none-any.whl (21 kB)\n",
      "Collecting fastjsonschema (from nbformat>=5.3.0->jupyter-server<3,>=2.4.0->notebook>=4.4.1->widgetsnbextension~=3.6.4->ipywidgets<8.0.0->sagemaker-datawrangler)\n",
      "  Using cached fastjsonschema-2.18.0-py3-none-any.whl (23 kB)\n",
      "Requirement already satisfied: charset-normalizer<4,>=2 in /opt/conda/lib/python3.10/site-packages (from requests>=2.28->jupyterlab-server<3,>=2.22.1->notebook>=4.4.1->widgetsnbextension~=3.6.4->ipywidgets<8.0.0->sagemaker-datawrangler) (3.1.0)\n",
      "Requirement already satisfied: urllib3<1.27,>=1.21.1 in /opt/conda/lib/python3.10/site-packages (from requests>=2.28->jupyterlab-server<3,>=2.22.1->notebook>=4.4.1->widgetsnbextension~=3.6.4->ipywidgets<8.0.0->sagemaker-datawrangler) (1.26.15)\n",
      "Requirement already satisfied: certifi>=2017.4.17 in /opt/conda/lib/python3.10/site-packages (from requests>=2.28->jupyterlab-server<3,>=2.22.1->notebook>=4.4.1->widgetsnbextension~=3.6.4->ipywidgets<8.0.0->sagemaker-datawrangler) (2023.5.7)\n",
      "Collecting argon2-cffi-bindings (from argon2-cffi->jupyter-server<3,>=2.4.0->notebook>=4.4.1->widgetsnbextension~=3.6.4->ipywidgets<8.0.0->sagemaker-datawrangler)\n",
      "  Using cached argon2_cffi_bindings-21.2.0-cp36-abi3-manylinux_2_17_x86_64.manylinux2014_x86_64.whl (86 kB)\n",
      "Collecting webencodings (from bleach!=5.0.0->nbconvert>=6.4.4->jupyter-server<3,>=2.4.0->notebook>=4.4.1->widgetsnbextension~=3.6.4->ipywidgets<8.0.0->sagemaker-datawrangler)\n",
      "  Using cached webencodings-0.5.1-py2.py3-none-any.whl (11 kB)\n",
      "Collecting fqdn (from jsonschema>=4.17.3->jupyterlab-server<3,>=2.22.1->notebook>=4.4.1->widgetsnbextension~=3.6.4->ipywidgets<8.0.0->sagemaker-datawrangler)\n",
      "  Using cached fqdn-1.5.1-py3-none-any.whl (9.1 kB)\n",
      "Collecting isoduration (from jsonschema>=4.17.3->jupyterlab-server<3,>=2.22.1->notebook>=4.4.1->widgetsnbextension~=3.6.4->ipywidgets<8.0.0->sagemaker-datawrangler)\n",
      "  Using cached isoduration-20.11.0-py3-none-any.whl (11 kB)\n",
      "Requirement already satisfied: jsonpointer>1.13 in /opt/conda/lib/python3.10/site-packages (from jsonschema>=4.17.3->jupyterlab-server<3,>=2.22.1->notebook>=4.4.1->widgetsnbextension~=3.6.4->ipywidgets<8.0.0->sagemaker-datawrangler) (2.3)\n",
      "Collecting uri-template (from jsonschema>=4.17.3->jupyterlab-server<3,>=2.22.1->notebook>=4.4.1->widgetsnbextension~=3.6.4->ipywidgets<8.0.0->sagemaker-datawrangler)\n",
      "  Using cached uri_template-1.3.0-py3-none-any.whl (11 kB)\n",
      "Collecting webcolors>=1.11 (from jsonschema>=4.17.3->jupyterlab-server<3,>=2.22.1->notebook>=4.4.1->widgetsnbextension~=3.6.4->ipywidgets<8.0.0->sagemaker-datawrangler)\n",
      "  Using cached webcolors-1.13-py3-none-any.whl (14 kB)\n",
      "Requirement already satisfied: cffi>=1.0.1 in /opt/conda/lib/python3.10/site-packages (from argon2-cffi-bindings->argon2-cffi->jupyter-server<3,>=2.4.0->notebook>=4.4.1->widgetsnbextension~=3.6.4->ipywidgets<8.0.0->sagemaker-datawrangler) (1.15.1)\n",
      "Collecting soupsieve>1.2 (from beautifulsoup4->nbconvert>=6.4.4->jupyter-server<3,>=2.4.0->notebook>=4.4.1->widgetsnbextension~=3.6.4->ipywidgets<8.0.0->sagemaker-datawrangler)\n",
      "  Using cached soupsieve-2.4.1-py3-none-any.whl (36 kB)\n",
      "Requirement already satisfied: pycparser in /opt/conda/lib/python3.10/site-packages (from cffi>=1.0.1->argon2-cffi-bindings->argon2-cffi->jupyter-server<3,>=2.4.0->notebook>=4.4.1->widgetsnbextension~=3.6.4->ipywidgets<8.0.0->sagemaker-datawrangler) (2.21)\n",
      "Collecting arrow>=0.15.0 (from isoduration->jsonschema>=4.17.3->jupyterlab-server<3,>=2.22.1->notebook>=4.4.1->widgetsnbextension~=3.6.4->ipywidgets<8.0.0->sagemaker-datawrangler)\n",
      "  Using cached arrow-1.2.3-py3-none-any.whl (66 kB)\n",
      "Installing collected packages: webencodings, sagemaker-scikit-learn-extension, json5, ipython-genutils, fastjsonschema, webcolors, uri-template, tinycss2, terminado, soupsieve, sniffio, send2trash, rfc3986-validator, rfc3339-validator, python-json-logger, prometheus-client, pandocfilters, overrides, mistune, jupyterlab-widgets, jupyterlab-pygments, fqdn, exceptiongroup, defusedxml, bleach, babel, async-lru, nbformat, jupyter-server-terminals, beautifulsoup4, arrow, argon2-cffi-bindings, anyio, sagemaker-data-insights, nbclient, isoduration, argon2-cffi, nbconvert, jupyter-events, jupyter-server, notebook-shim, jupyterlab-server, jupyter-lsp, jupyterlab, notebook, widgetsnbextension, ipywidgets, sagemaker-datawrangler\n",
      "Successfully installed anyio-3.7.1 argon2-cffi-21.3.0 argon2-cffi-bindings-21.2.0 arrow-1.2.3 async-lru-2.0.3 babel-2.12.1 beautifulsoup4-4.12.2 bleach-6.0.0 defusedxml-0.7.1 exceptiongroup-1.1.2 fastjsonschema-2.18.0 fqdn-1.5.1 ipython-genutils-0.2.0 ipywidgets-7.7.5 isoduration-20.11.0 json5-0.9.14 jupyter-events-0.6.3 jupyter-lsp-2.2.0 jupyter-server-2.7.0 jupyter-server-terminals-0.4.4 jupyterlab-4.0.3 jupyterlab-pygments-0.2.2 jupyterlab-server-2.24.0 jupyterlab-widgets-1.1.4 mistune-3.0.1 nbclient-0.8.0 nbconvert-7.7.2 nbformat-5.9.1 notebook-7.0.0 notebook-shim-0.2.3 overrides-7.3.1 pandocfilters-1.5.0 prometheus-client-0.17.1 python-json-logger-2.0.7 rfc3339-validator-0.1.4 rfc3986-validator-0.1.1 sagemaker-data-insights-0.4.0 sagemaker-datawrangler-0.4.3 sagemaker-scikit-learn-extension-2.5.0 send2trash-1.8.2 sniffio-1.3.0 soupsieve-2.4.1 terminado-0.17.1 tinycss2-1.2.1 uri-template-1.3.0 webcolors-1.13 webencodings-0.5.1 widgetsnbextension-3.6.4\n",
      "\u001b[33mWARNING: Running pip as the 'root' user can result in broken permissions and conflicting behaviour with the system package manager. It is recommended to use a virtual environment instead: https://pip.pypa.io/warnings/venv\u001b[0m\u001b[33m\n",
      "\u001b[0m\n",
      "\u001b[1m[\u001b[0m\u001b[34;49mnotice\u001b[0m\u001b[1;39;49m]\u001b[0m\u001b[39;49m A new release of pip is available: \u001b[0m\u001b[31;49m23.1.2\u001b[0m\u001b[39;49m -> \u001b[0m\u001b[32;49m23.2\u001b[0m\n",
      "\u001b[1m[\u001b[0m\u001b[34;49mnotice\u001b[0m\u001b[1;39;49m]\u001b[0m\u001b[39;49m To update, run: \u001b[0m\u001b[32;49mpip install --upgrade pip\u001b[0m\n"
     ]
    }
   ],
   "source": [
    "try:\n",
    "    import sagemaker_datawrangler\n",
    "except ImportError:\n",
    "    !pip install --upgrade sagemaker-datawrangler\n",
    "    import sagemaker_datawrangler"
   ]
  },
  {
   "cell_type": "code",
   "execution_count": 11,
   "id": "513de7bc-f6c1-4e4b-8845-ade17a7f6607",
   "metadata": {
    "tags": []
   },
   "outputs": [],
   "source": [
    "def getChunkRange(start, end):\n",
    "    df = None\n",
    "    prefix = 'tokenized/tsv/training_reviews/'\n",
    "    delim = 'chunk_*.tsv'\n",
    "    #get all keys so we can skip ones that don't exist\n",
    "    response = s3.list_objects_v2(Bucket=bucketName, Prefix=prefix, Delimiter=delim)['Contents']\n",
    "    keys = []\n",
    "    for obj in response:\n",
    "        keys.append(obj['Key'])\n",
    "    for chunk_id in range(start, end):\n",
    "        chunk_key = prefix + 'chunk_' + '{:03d}'.format(chunk_id) + '.tsv'\n",
    "        if chunk_key in keys:\n",
    "            chunk_response = s3.get_object(Bucket=bucketName, Key=chunk_key)\n",
    "            chunk_df = pd.read_csv(chunk_response.get('Body'), sep='\\t')\n",
    "            if df is None:\n",
    "                df = chunk_df\n",
    "            else:\n",
    "                df = pd.concat([df,chunk_df], axis=0)\n",
    "        else:\n",
    "            print('WARNING: Chunk Key:', chunk_key, ' not found in bucket')\n",
    "    return df"
   ]
  },
  {
   "cell_type": "code",
   "execution_count": 12,
   "id": "aa324f26-fc97-418b-a119-82135169053a",
   "metadata": {
    "tags": []
   },
   "outputs": [
    {
     "name": "stdout",
     "output_type": "stream",
     "text": [
      "WARNING: Chunk Key: tokenized/tsv/training_reviews/chunk_007.tsv  not found in bucket\n",
      "WARNING: Chunk Key: tokenized/tsv/training_reviews/chunk_008.tsv  not found in bucket\n",
      "WARNING: Chunk Key: tokenized/tsv/training_reviews/chunk_009.tsv  not found in bucket\n"
     ]
    }
   ],
   "source": [
    "df = getChunkRange(0, 10)"
   ]
  },
  {
   "cell_type": "code",
   "execution_count": 13,
   "id": "a2ef16bb-25d9-4b80-8e0a-2b2b54ca5887",
   "metadata": {
    "tags": []
   },
   "outputs": [],
   "source": [
    "def parse_string_to_list(value):\n",
    "    cleaned_string = value.strip(\"[]\").replace(\" \", \"\")\n",
    "    number_substrings = cleaned_string.split(',')\n",
    "    integer_list = [int(number) for number in number_substrings]\n",
    "    return integer_list"
   ]
  },
  {
   "cell_type": "code",
   "execution_count": 14,
   "id": "c24a064d-8933-4f70-8c8a-d5a5ae5e9b10",
   "metadata": {
    "tags": []
   },
   "outputs": [],
   "source": [
    "df['token_ids'] = df['token_ids'].map(parse_string_to_list)\n",
    "df['attention_mask'] = df['attention_mask'].map(parse_string_to_list)"
   ]
  },
  {
   "cell_type": "code",
   "execution_count": 15,
   "id": "841fa43e-61ac-4b7a-9ff0-1feca1b8b771",
   "metadata": {},
   "outputs": [],
   "source": [
    "from sklearn.model_selection import train_test_split\n",
    "train_df, test_df = train_test_split(df, train_size=0.8, random_state=42, stratify=df['flagged'])"
   ]
  },
  {
   "cell_type": "code",
   "execution_count": 19,
   "id": "10e46259-4aa4-4896-86a5-386902344362",
   "metadata": {
    "tags": []
   },
   "outputs": [
    {
     "name": "stdout",
     "output_type": "stream",
     "text": [
      "flagged\n",
      "0    46973\n",
      "1     6642\n",
      "Name: count, dtype: int64\n",
      "flagged\n",
      "0    11743\n",
      "1     1661\n",
      "Name: count, dtype: int64\n"
     ]
    }
   ],
   "source": [
    "print(train_df['flagged'].value_counts()) \n"
   ]
  },
  {
   "cell_type": "code",
   "execution_count": 11,
   "id": "8dfcaca4-b28d-4417-9742-3dedfffdf097",
   "metadata": {
    "tags": []
   },
   "outputs": [],
   "source": [
    "from torch.utils.data import Dataset\n",
    "\n",
    "class YelpDataset(Dataset):\n",
    "    def __init__(self, input_ids, attention_mask, labels):\n",
    "        self.input_ids = input_ids\n",
    "        self.attention_mask = attention_mask\n",
    "        self.labels = labels\n",
    "\n",
    "    def __len__(self):\n",
    "        return len(self.labels)\n",
    "\n",
    "    def __getitem__(self, idx):\n",
    "        return {\n",
    "            \"input_ids\": self.input_ids[idx],\n",
    "            \"attention_mask\": self.attention_mask[idx],\n",
    "            \"labels\": self.labels[idx],\n",
    "        }"
   ]
  },
  {
   "cell_type": "code",
   "execution_count": 12,
   "id": "0ed3e1f0-452e-4730-ab36-62228ab87dd6",
   "metadata": {
    "tags": []
   },
   "outputs": [],
   "source": [
    "import torch\n",
    "from torch.utils.data import DataLoader, TensorDataset\n",
    "# Convert lists to tensors\n",
    "train_input_ids = torch.tensor(train_df['token_ids'].tolist())\n",
    "train_attention_masks = torch.tensor(train_df['attention_mask'].tolist())\n",
    "train_labels = torch.tensor(train_df['flagged'].tolist())\n",
    "\n",
    "test_input_ids = torch.tensor(test_df['token_ids'].tolist())\n",
    "test_attention_masks = torch.tensor(test_df['attention_mask'].tolist())\n",
    "test_labels = torch.tensor(test_df['flagged'].tolist())\n",
    "\n",
    "# Create TensorDatasets for train and test sets\n",
    "train_dataset = YelpDataset(train_input_ids, train_attention_masks, train_labels)\n",
    "test_dataset = YelpDataset(test_input_ids, test_attention_masks, test_labels)\n"
   ]
  },
  {
   "cell_type": "code",
   "execution_count": 23,
   "id": "b8b36195-9434-4f13-8637-46e5ac8ec957",
   "metadata": {
    "tags": []
   },
   "outputs": [
    {
     "name": "stdout",
     "output_type": "stream",
     "text": [
      "flagged\n",
      "0    46973\n",
      "1     6642\n",
      "Name: count, dtype: int64\n",
      "flagged\n",
      "0    46973\n",
      "1     6642\n",
      "Name: count, dtype: int64\n"
     ]
    }
   ],
   "source": [
    "print(train_df['flagged'].value_counts())\n",
    "print(train_df['flagged'].value_counts())"
   ]
  },
  {
   "cell_type": "code",
   "execution_count": 14,
   "id": "8ba9b35d-5caf-4fc7-9872-15535f4848f1",
   "metadata": {
    "tags": []
   },
   "outputs": [],
   "source": [
    "import numpy as np\n",
    "from sklearn.metrics import accuracy_score, recall_score, precision_score, f1_score\n",
    "\n",
    "\n",
    "def compute_metrics(p):    \n",
    "    pred, labels = p\n",
    "    pred = np.argmax(pred, axis=1)\n",
    "    accuracy = accuracy_score(y_true=labels, y_pred=pred)\n",
    "    recall = recall_score(y_true=labels, y_pred=pred)\n",
    "    precision = precision_score(y_true=labels, y_pred=pred)\n",
    "    f1 = f1_score(y_true=labels, y_pred=pred)\n",
    "    return {\"accuracy\": accuracy, \"precision\": precision, \"recall\": recall, \"f1\": f1} "
   ]
  },
  {
   "cell_type": "code",
   "execution_count": 15,
   "id": "ba09b9e6-b51b-4467-a360-081117929c25",
   "metadata": {
    "tags": []
   },
   "outputs": [
    {
     "name": "stderr",
     "output_type": "stream",
     "text": [
      "Some weights of BertForSequenceClassification were not initialized from the model checkpoint at bert-base-cased and are newly initialized: ['classifier.weight', 'classifier.bias']\n",
      "You should probably TRAIN this model on a down-stream task to be able to use it for predictions and inference.\n"
     ]
    }
   ],
   "source": [
    "from transformers import BertForSequenceClassification, Trainer, TrainingArguments, AdamW, get_linear_schedule_with_warmup\n",
    "model = BertForSequenceClassification.from_pretrained('bert-base-cased', num_labels=2)\n",
    "import torch.nn as nn\n",
    "import torch.nn.functional as F"
   ]
  },
  {
   "cell_type": "code",
   "execution_count": 16,
   "id": "2a8d6792-4157-4a54-855e-6f1c1e124c79",
   "metadata": {
    "tags": []
   },
   "outputs": [
    {
     "data": {
      "text/html": [
       "\n",
       "    <div>\n",
       "      \n",
       "      <progress value='5028' max='5028' style='width:300px; height:20px; vertical-align: middle;'></progress>\n",
       "      [5028/5028 1:59:58, Epoch 3/3]\n",
       "    </div>\n",
       "    <table border=\"1\" class=\"dataframe\">\n",
       "  <thead>\n",
       " <tr style=\"text-align: left;\">\n",
       "      <th>Epoch</th>\n",
       "      <th>Training Loss</th>\n",
       "      <th>Validation Loss</th>\n",
       "      <th>Accuracy</th>\n",
       "      <th>Precision</th>\n",
       "      <th>Recall</th>\n",
       "      <th>F1</th>\n",
       "    </tr>\n",
       "  </thead>\n",
       "  <tbody>\n",
       "    <tr>\n",
       "      <td>1</td>\n",
       "      <td>0.348700</td>\n",
       "      <td>0.326726</td>\n",
       "      <td>0.876679</td>\n",
       "      <td>1.000000</td>\n",
       "      <td>0.004816</td>\n",
       "      <td>0.009587</td>\n",
       "    </tr>\n",
       "    <tr>\n",
       "      <td>2</td>\n",
       "      <td>0.315000</td>\n",
       "      <td>0.319457</td>\n",
       "      <td>0.878395</td>\n",
       "      <td>0.556364</td>\n",
       "      <td>0.092113</td>\n",
       "      <td>0.158058</td>\n",
       "    </tr>\n",
       "    <tr>\n",
       "      <td>3</td>\n",
       "      <td>0.249300</td>\n",
       "      <td>0.344290</td>\n",
       "      <td>0.870263</td>\n",
       "      <td>0.442647</td>\n",
       "      <td>0.181216</td>\n",
       "      <td>0.257155</td>\n",
       "    </tr>\n",
       "  </tbody>\n",
       "</table><p>"
      ],
      "text/plain": [
       "<IPython.core.display.HTML object>"
      ]
     },
     "metadata": {},
     "output_type": "display_data"
    },
    {
     "data": {
      "text/html": [],
      "text/plain": [
       "<IPython.core.display.HTML object>"
      ]
     },
     "metadata": {},
     "output_type": "display_data"
    },
    {
     "name": "stdout",
     "output_type": "stream",
     "text": [
      "Results: {'eval_loss': 0.3442904055118561, 'eval_accuracy': 0.8702626081766637, 'eval_precision': 0.4426470588235294, 'eval_recall': 0.18121613485851895, 'eval_f1': 0.2571550619393422, 'eval_runtime': 212.2519, 'eval_samples_per_second': 63.151, 'eval_steps_per_second': 7.896, 'epoch': 3.0}\n"
     ]
    }
   ],
   "source": [
    "optimizer = AdamW(model.parameters(), lr=2e-5, weight_decay=0.01)\n",
    "\n",
    "# Define Trainer\n",
    "args = TrainingArguments(\n",
    "    output_dir=\"s3://cs539-e2023-149b5d57-81a4-4e31-a476-c81e7e07dc33/Model/\",\n",
    "    evaluation_strategy=\"epoch\",\n",
    "    per_device_train_batch_size=32,\n",
    "    learning_rate=2e-5,\n",
    "    num_train_epochs=3,\n",
    "    warmup_steps=500,\n",
    "    adam_epsilon=1e-8,)\n",
    "\n",
    "scheduler = get_linear_schedule_with_warmup(\n",
    "    optimizer, num_warmup_steps=args.warmup_steps, num_training_steps=len(train_dataset)/args.per_device_train_batch_size * args.num_train_epochs)\n",
    "\n",
    "optimizers = (optimizer,scheduler)\n",
    "trainer = Trainer(\n",
    "model=model,\n",
    "args=args,\n",
    "compute_metrics=compute_metrics,\n",
    "train_dataset=train_dataset,\n",
    "eval_dataset=test_dataset,\n",
    "optimizers = optimizers,\n",
    ")\n",
    "# Train pre-trained model\n",
    "trainer.train()\n",
    "\n",
    "trainer.save_model('s3://cs539-e2023-149b5d57-81a4-4e31-a476-c81e7e07dc33/Model/')\n",
    "\n",
    "# Evaluate the model on the test dataset\n",
    "results = trainer.evaluate()\n",
    "\n",
    "print(\"Results:\", results)"
   ]
  },
  {
   "cell_type": "code",
   "execution_count": 17,
   "id": "747b25c2-8e7b-42a0-b246-bf0b6fd9d91c",
   "metadata": {
    "tags": []
   },
   "outputs": [
    {
     "data": {
      "text/plain": [
       "{'eval_loss': 0.3442904055118561,\n",
       " 'eval_accuracy': 0.8702626081766637,\n",
       " 'eval_precision': 0.4426470588235294,\n",
       " 'eval_recall': 0.18121613485851895,\n",
       " 'eval_f1': 0.2571550619393422,\n",
       " 'eval_runtime': 210.42,\n",
       " 'eval_samples_per_second': 63.701,\n",
       " 'eval_steps_per_second': 7.965,\n",
       " 'epoch': 3.0}"
      ]
     },
     "execution_count": 17,
     "metadata": {},
     "output_type": "execute_result"
    }
   ],
   "source": [
    "trainer.evaluate()"
   ]
  },
  {
   "cell_type": "code",
   "execution_count": 18,
   "id": "b3baee3d-1a6d-4d75-88b9-8bb9bc09b1a2",
   "metadata": {
    "tags": []
   },
   "outputs": [],
   "source": [
    "trainer.save_model('s3://cs539-e2023-149b5d57-81a4-4e31-a476-c81e7e07dc33/Model')"
   ]
  },
  {
   "cell_type": "code",
   "execution_count": 22,
   "id": "4256adc8-2ea0-45ee-ad07-ad97f85cacba",
   "metadata": {},
   "outputs": [],
   "source": [
    "def getChunkRangeBig(start, end):\n",
    "    df = None\n",
    "    prefix = 'tokenized/tsv/reviews/'\n",
    "    delim = 'chunk_*.tsv'\n",
    "    #get all keys so we can skip ones that don't exist\n",
    "    response = s3.list_objects_v2(Bucket=bucketName, Prefix=prefix, Delimiter=delim)['Contents']\n",
    "    keys = []\n",
    "    for obj in response:\n",
    "        keys.append(obj['Key'])\n",
    "    for chunk_id in range(start, end):\n",
    "        chunk_key = prefix + 'chunk_' + '{:03d}'.format(chunk_id) + '.tsv'\n",
    "        if chunk_key in keys:\n",
    "            chunk_response = s3.get_object(Bucket=bucketName, Key=chunk_key)\n",
    "            chunk_df = pd.read_csv(chunk_response.get('Body'), sep='\\t')\n",
    "            if df is None:\n",
    "                df = chunk_df\n",
    "            else:\n",
    "                df = pd.concat([df,chunk_df], axis=0)\n",
    "        else:\n",
    "            print('WARNING: Chunk Key:', chunk_key, ' not found in bucket')\n",
    "    return df"
   ]
  },
  {
   "cell_type": "code",
   "execution_count": 23,
   "id": "a2d4f450-30c6-4bf7-bd25-249833608aa7",
   "metadata": {
    "tags": []
   },
   "outputs": [],
   "source": [
    "from torch.utils.data import Dataset\n",
    "\n",
    "class YelpDatasetBig(Dataset):\n",
    "    def __init__(self, input_ids, attention_mask):\n",
    "        self.input_ids = input_ids\n",
    "        self.attention_mask = attention_mask\n",
    "        \n",
    "    def __len__(self):\n",
    "        return len(self.labels)\n",
    "\n",
    "    def __getitem__(self, idx):\n",
    "        return {\n",
    "            \"input_ids\": self.input_ids[idx],\n",
    "            \"attention_mask\": self.attention_mask[idx],\n",
    "        }"
   ]
  },
  {
   "cell_type": "code",
   "execution_count": null,
   "id": "1b776b45-d708-4cd5-b295-7b1073bed2e6",
   "metadata": {
    "tags": []
   },
   "outputs": [
    {
     "data": {
      "text/html": [
       "\n",
       "    <div>\n",
       "      \n",
       "      <progress value='2362' max='3750' style='width:300px; height:20px; vertical-align: middle;'></progress>\n",
       "      [2362/3750 05:00 < 02:56, 7.85 it/s]\n",
       "    </div>\n",
       "    "
      ],
      "text/plain": [
       "<IPython.core.display.HTML object>"
      ]
     },
     "metadata": {},
     "output_type": "display_data"
    }
   ],
   "source": [
    "import torch\n",
    "from torch.utils.data import DataLoader, TensorDataset\n",
    "\n",
    "\n",
    "\n",
    "df_big = getChunkRangeBig(0, 3)\n",
    "df_big['token_ids'] = df_big['token_ids'].map(parse_string_to_list)\n",
    "df_big['attention_mask'] = df_big['attention_mask'].map(parse_string_to_list)\n",
    "df_big['labels'] = 0\n",
    "# Convert lists to tensors\n",
    "input_ids_big = torch.tensor(df_big['token_ids'].tolist())\n",
    "attention_masks_big = torch.tensor(df_big['attention_mask'].tolist())\n",
    "labels_big = torch.tensor(df_big['labels'].tolist())\n",
    "# Create TensorDatasets for train and test sets\n",
    "dataset_big = YelpDataset(input_ids_big, attention_masks_big, labels_big)\n",
    "\n",
    "predictions = trainer.predict(dataset_big)\n",
    "\n",
    "# Extract the predicted label IDs (class with highest probability)\n",
    "predicted_label_ids = predictions.predictions.argmax(axis=1)\n",
    "\n",
    "# Create a new DataFrame to store the results with 'reviewID', 'text', and 'predicted_label' columns\n",
    "result_df = pd.DataFrame({'review_ids': df_big['review_id'], 'predicted_label': predicted_label_ids})\n"
   ]
  },
  {
   "cell_type": "code",
   "execution_count": null,
   "id": "8a9e042e-69c9-4bc2-8111-549b2fc24962",
   "metadata": {},
   "outputs": [],
   "source": []
  }
 ],
 "metadata": {
  "availableInstances": [
   {
    "_defaultOrder": 0,
    "_isFastLaunch": true,
    "category": "General purpose",
    "gpuNum": 0,
    "hideHardwareSpecs": false,
    "memoryGiB": 4,
    "name": "ml.t3.medium",
    "vcpuNum": 2
   },
   {
    "_defaultOrder": 1,
    "_isFastLaunch": false,
    "category": "General purpose",
    "gpuNum": 0,
    "hideHardwareSpecs": false,
    "memoryGiB": 8,
    "name": "ml.t3.large",
    "vcpuNum": 2
   },
   {
    "_defaultOrder": 2,
    "_isFastLaunch": false,
    "category": "General purpose",
    "gpuNum": 0,
    "hideHardwareSpecs": false,
    "memoryGiB": 16,
    "name": "ml.t3.xlarge",
    "vcpuNum": 4
   },
   {
    "_defaultOrder": 3,
    "_isFastLaunch": false,
    "category": "General purpose",
    "gpuNum": 0,
    "hideHardwareSpecs": false,
    "memoryGiB": 32,
    "name": "ml.t3.2xlarge",
    "vcpuNum": 8
   },
   {
    "_defaultOrder": 4,
    "_isFastLaunch": true,
    "category": "General purpose",
    "gpuNum": 0,
    "hideHardwareSpecs": false,
    "memoryGiB": 8,
    "name": "ml.m5.large",
    "vcpuNum": 2
   },
   {
    "_defaultOrder": 5,
    "_isFastLaunch": false,
    "category": "General purpose",
    "gpuNum": 0,
    "hideHardwareSpecs": false,
    "memoryGiB": 16,
    "name": "ml.m5.xlarge",
    "vcpuNum": 4
   },
   {
    "_defaultOrder": 6,
    "_isFastLaunch": false,
    "category": "General purpose",
    "gpuNum": 0,
    "hideHardwareSpecs": false,
    "memoryGiB": 32,
    "name": "ml.m5.2xlarge",
    "vcpuNum": 8
   },
   {
    "_defaultOrder": 7,
    "_isFastLaunch": false,
    "category": "General purpose",
    "gpuNum": 0,
    "hideHardwareSpecs": false,
    "memoryGiB": 64,
    "name": "ml.m5.4xlarge",
    "vcpuNum": 16
   },
   {
    "_defaultOrder": 8,
    "_isFastLaunch": false,
    "category": "General purpose",
    "gpuNum": 0,
    "hideHardwareSpecs": false,
    "memoryGiB": 128,
    "name": "ml.m5.8xlarge",
    "vcpuNum": 32
   },
   {
    "_defaultOrder": 9,
    "_isFastLaunch": false,
    "category": "General purpose",
    "gpuNum": 0,
    "hideHardwareSpecs": false,
    "memoryGiB": 192,
    "name": "ml.m5.12xlarge",
    "vcpuNum": 48
   },
   {
    "_defaultOrder": 10,
    "_isFastLaunch": false,
    "category": "General purpose",
    "gpuNum": 0,
    "hideHardwareSpecs": false,
    "memoryGiB": 256,
    "name": "ml.m5.16xlarge",
    "vcpuNum": 64
   },
   {
    "_defaultOrder": 11,
    "_isFastLaunch": false,
    "category": "General purpose",
    "gpuNum": 0,
    "hideHardwareSpecs": false,
    "memoryGiB": 384,
    "name": "ml.m5.24xlarge",
    "vcpuNum": 96
   },
   {
    "_defaultOrder": 12,
    "_isFastLaunch": false,
    "category": "General purpose",
    "gpuNum": 0,
    "hideHardwareSpecs": false,
    "memoryGiB": 8,
    "name": "ml.m5d.large",
    "vcpuNum": 2
   },
   {
    "_defaultOrder": 13,
    "_isFastLaunch": false,
    "category": "General purpose",
    "gpuNum": 0,
    "hideHardwareSpecs": false,
    "memoryGiB": 16,
    "name": "ml.m5d.xlarge",
    "vcpuNum": 4
   },
   {
    "_defaultOrder": 14,
    "_isFastLaunch": false,
    "category": "General purpose",
    "gpuNum": 0,
    "hideHardwareSpecs": false,
    "memoryGiB": 32,
    "name": "ml.m5d.2xlarge",
    "vcpuNum": 8
   },
   {
    "_defaultOrder": 15,
    "_isFastLaunch": false,
    "category": "General purpose",
    "gpuNum": 0,
    "hideHardwareSpecs": false,
    "memoryGiB": 64,
    "name": "ml.m5d.4xlarge",
    "vcpuNum": 16
   },
   {
    "_defaultOrder": 16,
    "_isFastLaunch": false,
    "category": "General purpose",
    "gpuNum": 0,
    "hideHardwareSpecs": false,
    "memoryGiB": 128,
    "name": "ml.m5d.8xlarge",
    "vcpuNum": 32
   },
   {
    "_defaultOrder": 17,
    "_isFastLaunch": false,
    "category": "General purpose",
    "gpuNum": 0,
    "hideHardwareSpecs": false,
    "memoryGiB": 192,
    "name": "ml.m5d.12xlarge",
    "vcpuNum": 48
   },
   {
    "_defaultOrder": 18,
    "_isFastLaunch": false,
    "category": "General purpose",
    "gpuNum": 0,
    "hideHardwareSpecs": false,
    "memoryGiB": 256,
    "name": "ml.m5d.16xlarge",
    "vcpuNum": 64
   },
   {
    "_defaultOrder": 19,
    "_isFastLaunch": false,
    "category": "General purpose",
    "gpuNum": 0,
    "hideHardwareSpecs": false,
    "memoryGiB": 384,
    "name": "ml.m5d.24xlarge",
    "vcpuNum": 96
   },
   {
    "_defaultOrder": 20,
    "_isFastLaunch": false,
    "category": "General purpose",
    "gpuNum": 0,
    "hideHardwareSpecs": true,
    "memoryGiB": 0,
    "name": "ml.geospatial.interactive",
    "supportedImageNames": [
     "sagemaker-geospatial-v1-0"
    ],
    "vcpuNum": 0
   },
   {
    "_defaultOrder": 21,
    "_isFastLaunch": true,
    "category": "Compute optimized",
    "gpuNum": 0,
    "hideHardwareSpecs": false,
    "memoryGiB": 4,
    "name": "ml.c5.large",
    "vcpuNum": 2
   },
   {
    "_defaultOrder": 22,
    "_isFastLaunch": false,
    "category": "Compute optimized",
    "gpuNum": 0,
    "hideHardwareSpecs": false,
    "memoryGiB": 8,
    "name": "ml.c5.xlarge",
    "vcpuNum": 4
   },
   {
    "_defaultOrder": 23,
    "_isFastLaunch": false,
    "category": "Compute optimized",
    "gpuNum": 0,
    "hideHardwareSpecs": false,
    "memoryGiB": 16,
    "name": "ml.c5.2xlarge",
    "vcpuNum": 8
   },
   {
    "_defaultOrder": 24,
    "_isFastLaunch": false,
    "category": "Compute optimized",
    "gpuNum": 0,
    "hideHardwareSpecs": false,
    "memoryGiB": 32,
    "name": "ml.c5.4xlarge",
    "vcpuNum": 16
   },
   {
    "_defaultOrder": 25,
    "_isFastLaunch": false,
    "category": "Compute optimized",
    "gpuNum": 0,
    "hideHardwareSpecs": false,
    "memoryGiB": 72,
    "name": "ml.c5.9xlarge",
    "vcpuNum": 36
   },
   {
    "_defaultOrder": 26,
    "_isFastLaunch": false,
    "category": "Compute optimized",
    "gpuNum": 0,
    "hideHardwareSpecs": false,
    "memoryGiB": 96,
    "name": "ml.c5.12xlarge",
    "vcpuNum": 48
   },
   {
    "_defaultOrder": 27,
    "_isFastLaunch": false,
    "category": "Compute optimized",
    "gpuNum": 0,
    "hideHardwareSpecs": false,
    "memoryGiB": 144,
    "name": "ml.c5.18xlarge",
    "vcpuNum": 72
   },
   {
    "_defaultOrder": 28,
    "_isFastLaunch": false,
    "category": "Compute optimized",
    "gpuNum": 0,
    "hideHardwareSpecs": false,
    "memoryGiB": 192,
    "name": "ml.c5.24xlarge",
    "vcpuNum": 96
   },
   {
    "_defaultOrder": 29,
    "_isFastLaunch": true,
    "category": "Accelerated computing",
    "gpuNum": 1,
    "hideHardwareSpecs": false,
    "memoryGiB": 16,
    "name": "ml.g4dn.xlarge",
    "vcpuNum": 4
   },
   {
    "_defaultOrder": 30,
    "_isFastLaunch": false,
    "category": "Accelerated computing",
    "gpuNum": 1,
    "hideHardwareSpecs": false,
    "memoryGiB": 32,
    "name": "ml.g4dn.2xlarge",
    "vcpuNum": 8
   },
   {
    "_defaultOrder": 31,
    "_isFastLaunch": false,
    "category": "Accelerated computing",
    "gpuNum": 1,
    "hideHardwareSpecs": false,
    "memoryGiB": 64,
    "name": "ml.g4dn.4xlarge",
    "vcpuNum": 16
   },
   {
    "_defaultOrder": 32,
    "_isFastLaunch": false,
    "category": "Accelerated computing",
    "gpuNum": 1,
    "hideHardwareSpecs": false,
    "memoryGiB": 128,
    "name": "ml.g4dn.8xlarge",
    "vcpuNum": 32
   },
   {
    "_defaultOrder": 33,
    "_isFastLaunch": false,
    "category": "Accelerated computing",
    "gpuNum": 4,
    "hideHardwareSpecs": false,
    "memoryGiB": 192,
    "name": "ml.g4dn.12xlarge",
    "vcpuNum": 48
   },
   {
    "_defaultOrder": 34,
    "_isFastLaunch": false,
    "category": "Accelerated computing",
    "gpuNum": 1,
    "hideHardwareSpecs": false,
    "memoryGiB": 256,
    "name": "ml.g4dn.16xlarge",
    "vcpuNum": 64
   },
   {
    "_defaultOrder": 35,
    "_isFastLaunch": false,
    "category": "Accelerated computing",
    "gpuNum": 1,
    "hideHardwareSpecs": false,
    "memoryGiB": 61,
    "name": "ml.p3.2xlarge",
    "vcpuNum": 8
   },
   {
    "_defaultOrder": 36,
    "_isFastLaunch": false,
    "category": "Accelerated computing",
    "gpuNum": 4,
    "hideHardwareSpecs": false,
    "memoryGiB": 244,
    "name": "ml.p3.8xlarge",
    "vcpuNum": 32
   },
   {
    "_defaultOrder": 37,
    "_isFastLaunch": false,
    "category": "Accelerated computing",
    "gpuNum": 8,
    "hideHardwareSpecs": false,
    "memoryGiB": 488,
    "name": "ml.p3.16xlarge",
    "vcpuNum": 64
   },
   {
    "_defaultOrder": 38,
    "_isFastLaunch": false,
    "category": "Accelerated computing",
    "gpuNum": 8,
    "hideHardwareSpecs": false,
    "memoryGiB": 768,
    "name": "ml.p3dn.24xlarge",
    "vcpuNum": 96
   },
   {
    "_defaultOrder": 39,
    "_isFastLaunch": false,
    "category": "Memory Optimized",
    "gpuNum": 0,
    "hideHardwareSpecs": false,
    "memoryGiB": 16,
    "name": "ml.r5.large",
    "vcpuNum": 2
   },
   {
    "_defaultOrder": 40,
    "_isFastLaunch": false,
    "category": "Memory Optimized",
    "gpuNum": 0,
    "hideHardwareSpecs": false,
    "memoryGiB": 32,
    "name": "ml.r5.xlarge",
    "vcpuNum": 4
   },
   {
    "_defaultOrder": 41,
    "_isFastLaunch": false,
    "category": "Memory Optimized",
    "gpuNum": 0,
    "hideHardwareSpecs": false,
    "memoryGiB": 64,
    "name": "ml.r5.2xlarge",
    "vcpuNum": 8
   },
   {
    "_defaultOrder": 42,
    "_isFastLaunch": false,
    "category": "Memory Optimized",
    "gpuNum": 0,
    "hideHardwareSpecs": false,
    "memoryGiB": 128,
    "name": "ml.r5.4xlarge",
    "vcpuNum": 16
   },
   {
    "_defaultOrder": 43,
    "_isFastLaunch": false,
    "category": "Memory Optimized",
    "gpuNum": 0,
    "hideHardwareSpecs": false,
    "memoryGiB": 256,
    "name": "ml.r5.8xlarge",
    "vcpuNum": 32
   },
   {
    "_defaultOrder": 44,
    "_isFastLaunch": false,
    "category": "Memory Optimized",
    "gpuNum": 0,
    "hideHardwareSpecs": false,
    "memoryGiB": 384,
    "name": "ml.r5.12xlarge",
    "vcpuNum": 48
   },
   {
    "_defaultOrder": 45,
    "_isFastLaunch": false,
    "category": "Memory Optimized",
    "gpuNum": 0,
    "hideHardwareSpecs": false,
    "memoryGiB": 512,
    "name": "ml.r5.16xlarge",
    "vcpuNum": 64
   },
   {
    "_defaultOrder": 46,
    "_isFastLaunch": false,
    "category": "Memory Optimized",
    "gpuNum": 0,
    "hideHardwareSpecs": false,
    "memoryGiB": 768,
    "name": "ml.r5.24xlarge",
    "vcpuNum": 96
   },
   {
    "_defaultOrder": 47,
    "_isFastLaunch": false,
    "category": "Accelerated computing",
    "gpuNum": 1,
    "hideHardwareSpecs": false,
    "memoryGiB": 16,
    "name": "ml.g5.xlarge",
    "vcpuNum": 4
   },
   {
    "_defaultOrder": 48,
    "_isFastLaunch": false,
    "category": "Accelerated computing",
    "gpuNum": 1,
    "hideHardwareSpecs": false,
    "memoryGiB": 32,
    "name": "ml.g5.2xlarge",
    "vcpuNum": 8
   },
   {
    "_defaultOrder": 49,
    "_isFastLaunch": false,
    "category": "Accelerated computing",
    "gpuNum": 1,
    "hideHardwareSpecs": false,
    "memoryGiB": 64,
    "name": "ml.g5.4xlarge",
    "vcpuNum": 16
   },
   {
    "_defaultOrder": 50,
    "_isFastLaunch": false,
    "category": "Accelerated computing",
    "gpuNum": 1,
    "hideHardwareSpecs": false,
    "memoryGiB": 128,
    "name": "ml.g5.8xlarge",
    "vcpuNum": 32
   },
   {
    "_defaultOrder": 51,
    "_isFastLaunch": false,
    "category": "Accelerated computing",
    "gpuNum": 1,
    "hideHardwareSpecs": false,
    "memoryGiB": 256,
    "name": "ml.g5.16xlarge",
    "vcpuNum": 64
   },
   {
    "_defaultOrder": 52,
    "_isFastLaunch": false,
    "category": "Accelerated computing",
    "gpuNum": 4,
    "hideHardwareSpecs": false,
    "memoryGiB": 192,
    "name": "ml.g5.12xlarge",
    "vcpuNum": 48
   },
   {
    "_defaultOrder": 53,
    "_isFastLaunch": false,
    "category": "Accelerated computing",
    "gpuNum": 4,
    "hideHardwareSpecs": false,
    "memoryGiB": 384,
    "name": "ml.g5.24xlarge",
    "vcpuNum": 96
   },
   {
    "_defaultOrder": 54,
    "_isFastLaunch": false,
    "category": "Accelerated computing",
    "gpuNum": 8,
    "hideHardwareSpecs": false,
    "memoryGiB": 768,
    "name": "ml.g5.48xlarge",
    "vcpuNum": 192
   },
   {
    "_defaultOrder": 55,
    "_isFastLaunch": false,
    "category": "Accelerated computing",
    "gpuNum": 8,
    "hideHardwareSpecs": false,
    "memoryGiB": 1152,
    "name": "ml.p4d.24xlarge",
    "vcpuNum": 96
   },
   {
    "_defaultOrder": 56,
    "_isFastLaunch": false,
    "category": "Accelerated computing",
    "gpuNum": 8,
    "hideHardwareSpecs": false,
    "memoryGiB": 1152,
    "name": "ml.p4de.24xlarge",
    "vcpuNum": 96
   }
  ],
  "kernelspec": {
   "display_name": "Python 3 (PyTorch 2.0.0 Python 3.10 GPU Optimized)",
   "language": "python",
   "name": "python3__SAGEMAKER_INTERNAL__arn:aws:sagemaker:us-east-1:081325390199:image/pytorch-2.0.0-gpu-py310"
  },
  "language_info": {
   "codemirror_mode": {
    "name": "ipython",
    "version": 3
   },
   "file_extension": ".py",
   "mimetype": "text/x-python",
   "name": "python",
   "nbconvert_exporter": "python",
   "pygments_lexer": "ipython3",
   "version": "3.10.8"
  }
 },
 "nbformat": 4,
 "nbformat_minor": 5
}
