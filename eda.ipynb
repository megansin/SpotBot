{
 "cells": [
  {
   "cell_type": "markdown",
   "id": "3c36cd4b-2cca-4af7-9460-75c98f0193b6",
   "metadata": {},
   "source": [
    "## Loading labelled dataset\n"
   ]
  },
  {
   "cell_type": "code",
   "execution_count": 2,
   "id": "c63224c2-fb93-40c0-8867-46712aa93707",
   "metadata": {},
   "outputs": [],
   "source": [
    "from sagemaker import get_execution_role #this contains the permissions to access the bucket\n",
    "import boto3 #aws python client\n",
    "import pandas as pd\n",
    "s3 = boto3.client('s3') #connect to S3\n",
    "bucketName = \"cs539-e2023-149b5d57-81a4-4e31-a476-c81e7e07dc33\""
   ]
  },
  {
   "cell_type": "code",
   "execution_count": 3,
   "id": "57f8771e-8c47-4ccd-b02f-d27e6c9769cf",
   "metadata": {},
   "outputs": [],
   "source": [
    "response = s3.get_object(Bucket=bucketName, Key='datasets/csv/review_FAKE.csv')\n",
    "df = pd.read_csv(response.get(\"Body\"))"
   ]
  },
  {
   "cell_type": "code",
   "execution_count": 4,
   "id": "b28331de-e6a7-4b78-824b-f285cb021660",
   "metadata": {
    "tags": []
   },
   "outputs": [
    {
     "data": {
      "text/html": [
       "<div>\n",
       "<style scoped>\n",
       "    .dataframe tbody tr th:only-of-type {\n",
       "        vertical-align: middle;\n",
       "    }\n",
       "\n",
       "    .dataframe tbody tr th {\n",
       "        vertical-align: top;\n",
       "    }\n",
       "\n",
       "    .dataframe thead th {\n",
       "        text-align: right;\n",
       "    }\n",
       "</style>\n",
       "<table border=\"1\" class=\"dataframe\">\n",
       "  <thead>\n",
       "    <tr style=\"text-align: right;\">\n",
       "      <th></th>\n",
       "      <th>rating</th>\n",
       "      <th>usefulCount</th>\n",
       "      <th>coolCount</th>\n",
       "      <th>funnyCount</th>\n",
       "    </tr>\n",
       "  </thead>\n",
       "  <tbody>\n",
       "    <tr>\n",
       "      <th>count</th>\n",
       "      <td>788471.000000</td>\n",
       "      <td>788471.000000</td>\n",
       "      <td>788471.000000</td>\n",
       "      <td>788471.000000</td>\n",
       "    </tr>\n",
       "    <tr>\n",
       "      <th>mean</th>\n",
       "      <td>3.733021</td>\n",
       "      <td>1.574145</td>\n",
       "      <td>1.029895</td>\n",
       "      <td>0.870239</td>\n",
       "    </tr>\n",
       "    <tr>\n",
       "      <th>std</th>\n",
       "      <td>1.138435</td>\n",
       "      <td>2.773069</td>\n",
       "      <td>2.264558</td>\n",
       "      <td>2.287451</td>\n",
       "    </tr>\n",
       "    <tr>\n",
       "      <th>min</th>\n",
       "      <td>1.000000</td>\n",
       "      <td>0.000000</td>\n",
       "      <td>0.000000</td>\n",
       "      <td>0.000000</td>\n",
       "    </tr>\n",
       "    <tr>\n",
       "      <th>25%</th>\n",
       "      <td>3.000000</td>\n",
       "      <td>0.000000</td>\n",
       "      <td>0.000000</td>\n",
       "      <td>0.000000</td>\n",
       "    </tr>\n",
       "    <tr>\n",
       "      <th>50%</th>\n",
       "      <td>4.000000</td>\n",
       "      <td>1.000000</td>\n",
       "      <td>0.000000</td>\n",
       "      <td>0.000000</td>\n",
       "    </tr>\n",
       "    <tr>\n",
       "      <th>75%</th>\n",
       "      <td>5.000000</td>\n",
       "      <td>2.000000</td>\n",
       "      <td>1.000000</td>\n",
       "      <td>1.000000</td>\n",
       "    </tr>\n",
       "    <tr>\n",
       "      <th>max</th>\n",
       "      <td>5.000000</td>\n",
       "      <td>208.000000</td>\n",
       "      <td>170.000000</td>\n",
       "      <td>191.000000</td>\n",
       "    </tr>\n",
       "  </tbody>\n",
       "</table>\n",
       "</div>"
      ],
      "text/plain": [
       "              rating    usefulCount      coolCount     funnyCount\n",
       "count  788471.000000  788471.000000  788471.000000  788471.000000\n",
       "mean        3.733021       1.574145       1.029895       0.870239\n",
       "std         1.138435       2.773069       2.264558       2.287451\n",
       "min         1.000000       0.000000       0.000000       0.000000\n",
       "25%         3.000000       0.000000       0.000000       0.000000\n",
       "50%         4.000000       1.000000       0.000000       0.000000\n",
       "75%         5.000000       2.000000       1.000000       1.000000\n",
       "max         5.000000     208.000000     170.000000     191.000000"
      ]
     },
     "execution_count": 4,
     "metadata": {},
     "output_type": "execute_result"
    }
   ],
   "source": [
    "df.describe()\n",
    "# df['flagged'].unique()"
   ]
  },
  {
   "cell_type": "markdown",
   "id": "f35b7118-a928-4908-b05e-6edb3f3bdd83",
   "metadata": {},
   "source": [
    "## Creating dataframe with only fake reviews and real reviews"
   ]
  },
  {
   "cell_type": "code",
   "execution_count": 5,
   "id": "b60e3560-1ec8-46d6-96ca-8f231b2e5a01",
   "metadata": {
    "tags": []
   },
   "outputs": [
    {
     "name": "stdout",
     "output_type": "stream",
     "text": [
      "Fake reviews size: 8303\n",
      "Real reviews size: 58716\n"
     ]
    }
   ],
   "source": [
    "fake_reviews = df.loc[df['flagged'] == 'Y']\n",
    "real_reviews = df.loc[df['flagged'] == 'N']\n",
    "\n",
    "print(\"Fake reviews size:\", fake_reviews['rating'].size)\n",
    "print(\"Real reviews size:\", real_reviews['rating'].size)"
   ]
  },
  {
   "cell_type": "markdown",
   "id": "6d349e3b-02ce-4627-921d-b341f13f64e6",
   "metadata": {
    "tags": []
   },
   "source": [
    "## Creating bar chart to count number of reviews for each rating (real and fake)\n",
    "\n"
   ]
  },
  {
   "cell_type": "code",
   "execution_count": 11,
   "id": "18ed4feb-8471-4e99-b33b-9644de14aa6a",
   "metadata": {
    "tags": []
   },
   "outputs": [
    {
     "data": {
      "text/plain": [
       "<matplotlib.axes._subplots.AxesSubplot at 0x7f146b33f590>"
      ]
     },
     "execution_count": 11,
     "metadata": {},
     "output_type": "execute_result"
    },
    {
     "data": {
      "image/png": "[encoded data removed]",
      "text/plain": [
       "<Figure size 640x480 with 1 Axes>"
      ]
     },
     "metadata": {},
     "output_type": "display_data"
    }
   ],
   "source": [
    "%matplotlib inline\n",
    "#real\n",
    "real_ratings = real_reviews['rating']\n",
    "real_ratings.value_counts().sort_index().plot.bar()"
   ]
  },
  {
   "cell_type": "code",
   "execution_count": 12,
   "id": "6180999f-63f1-412d-8c1e-e978d0f50c48",
   "metadata": {
    "tags": []
   },
   "outputs": [
    {
     "data": {
      "text/plain": [
       "<matplotlib.axes._subplots.AxesSubplot at 0x7f146b33f810>"
      ]
     },
     "execution_count": 12,
     "metadata": {},
     "output_type": "execute_result"
    },
    {
     "data": {
      "image/png": "[encoded data removed]",
      "text/plain": [
       "<Figure size 640x480 with 1 Axes>"
      ]
     },
     "metadata": {},
     "output_type": "display_data"
    }
   ],
   "source": [
    "#fake\n",
    "fake_ratings = fake_reviews['rating']\n",
    "fake_ratings.value_counts().sort_index().plot.bar()"
   ]
  },
  {
   "cell_type": "markdown",
   "id": "b1822f32-8823-4cb2-8b38-14d33af25d4d",
   "metadata": {},
   "source": [
    "## Download nltk and needed packages to tokenize words in review content"
   ]
  },
  {
   "cell_type": "code",
   "execution_count": 6,
   "id": "bc55ce77-2381-4ff9-8733-8952c29e2076",
   "metadata": {
    "tags": []
   },
   "outputs": [],
   "source": [
    "import nltk\n",
    "# nltk.download()\n",
    "from nltk.tokenize import word_tokenize"
   ]
  },
  {
   "cell_type": "code",
   "execution_count": 109,
   "id": "7a3345db-b867-4d83-a338-6bc6e20c30c1",
   "metadata": {
    "tags": []
   },
   "outputs": [
    {
     "data": {
      "text/plain": [
       "0"
      ]
     },
     "execution_count": 109,
     "metadata": {},
     "output_type": "execute_result"
    }
   ],
   "source": [
    "# checked for NaN values, replacing with empty str if any\n",
    "# real_reviews[\"reviewContent\"].isna().sum()\n",
    "# real_reviews[\"reviewContent\"].fillna('', inplace=True)"
   ]
  },
  {
   "cell_type": "code",
   "execution_count": 8,
   "id": "81319d5b-8038-4360-b406-b8db5c500495",
   "metadata": {
    "tags": []
   },
   "outputs": [
    {
     "name": "stderr",
     "output_type": "stream",
     "text": [
      "/opt/conda/lib/python3.7/site-packages/pandas/core/generic.py:6392: SettingWithCopyWarning: \n",
      "A value is trying to be set on a copy of a slice from a DataFrame\n",
      "\n",
      "See the caveats in the documentation: https://pandas.pydata.org/pandas-docs/stable/user_guide/indexing.html#returning-a-view-versus-a-copy\n",
      "  return self._update_inplace(result)\n"
     ]
    }
   ],
   "source": [
    "fake_reviews.dtypes\n",
    "# checked for NaN values, replacing with empty str\n",
    "# fake_reviews[\"reviewContent\"].isna().sum()\n",
    "fake_reviews[\"reviewContent\"].fillna('', inplace=True)"
   ]
  },
  {
   "cell_type": "code",
   "execution_count": 9,
   "id": "990d732f-f5f4-4bd1-85b1-dd4ec53205f5",
   "metadata": {
    "tags": []
   },
   "outputs": [
    {
     "data": {
      "text/plain": [
       "0         Unlike Next, which we'd eaten at the previous ...\n",
       "1         Probably one of the best meals I've had ever. ...\n",
       "2         Service was impeccable. Experience and present...\n",
       "3         The problem with places like this, given the e...\n",
       "4         I have no idea how to write my review - dining...\n",
       "                                ...                        \n",
       "497204    I've passed this place a bunch of times on my ...\n",
       "501512    Rubino's is not really setup as a retail opera...\n",
       "504898    This place is amazing.  The food is great and ...\n",
       "506036    OK went back the next day as I was driving by ...\n",
       "506191    Delicious, rather authentic Mexican food, must...\n",
       "Name: reviewContent, Length: 58716, dtype: object"
      ]
     },
     "execution_count": 9,
     "metadata": {},
     "output_type": "execute_result"
    }
   ],
   "source": [
    "real_reviews[\"reviewContent\"]"
   ]
  },
  {
   "cell_type": "code",
   "execution_count": 17,
   "id": "70eb14e8-d516-4afd-98d0-db7413293afc",
   "metadata": {
    "tags": []
   },
   "outputs": [
    {
     "data": {
      "text/plain": [
       "58589    The food is amazing.  I have two tickets for t...\n",
       "58590    I did not know what to expect from this restau...\n",
       "58591    I liked the services offered by (Alinea) resta...\n",
       "58592    I liked the services offered by (Alinea) resta...\n",
       "58593    Presumably one of the best restaurants in Amer...\n",
       "                               ...                        \n",
       "66887    I've been back twice since my first post and e...\n",
       "66888    A good dining experience soured by a \"mistake\"...\n",
       "66889    Great food and good service. It's BYOB, so bri...\n",
       "66890    This is a must dine restaurant. After we saw t...\n",
       "66891    I came here about 5 times and the food is alwa...\n",
       "Name: reviewContent, Length: 8303, dtype: object"
      ]
     },
     "execution_count": 17,
     "metadata": {},
     "output_type": "execute_result"
    }
   ],
   "source": [
    "fake_reviews[\"reviewContent\"]"
   ]
  },
  {
   "cell_type": "code",
   "execution_count": null,
   "id": "38a8fbf9-0617-4b74-ab68-cff1cf390737",
   "metadata": {
    "tags": []
   },
   "outputs": [],
   "source": [
    "real_reviews['wordTokenized'] = real_reviews[\"reviewContent\"].apply(word_tokenize)\n",
    "real_reviews['wordCount'] = real_reviews['wordTokenized'].str.len()\n",
    "\n",
    "fake_reviews['wordTokenized'] = fake_reviews[\"reviewContent\"].apply(word_tokenize)\n",
    "fake_reviews['wordCount'] = fake_reviews['wordTokenized'].str.len()"
   ]
  },
  {
   "cell_type": "code",
   "execution_count": 116,
   "id": "c920e323-de1e-4792-a110-fe9d49b2c61c",
   "metadata": {
    "tags": []
   },
   "outputs": [
    {
     "data": {
      "text/html": [
       "<div>\n",
       "<style scoped>\n",
       "    .dataframe tbody tr th:only-of-type {\n",
       "        vertical-align: middle;\n",
       "    }\n",
       "\n",
       "    .dataframe tbody tr th {\n",
       "        vertical-align: top;\n",
       "    }\n",
       "\n",
       "    .dataframe thead th {\n",
       "        text-align: right;\n",
       "    }\n",
       "</style>\n",
       "<table border=\"1\" class=\"dataframe\">\n",
       "  <thead>\n",
       "    <tr style=\"text-align: right;\">\n",
       "      <th></th>\n",
       "      <th>date</th>\n",
       "      <th>reviewID</th>\n",
       "      <th>reviewerID</th>\n",
       "      <th>reviewContent</th>\n",
       "      <th>rating</th>\n",
       "      <th>usefulCount</th>\n",
       "      <th>coolCount</th>\n",
       "      <th>funnyCount</th>\n",
       "      <th>flagged</th>\n",
       "      <th>restaurantID</th>\n",
       "      <th>wordTokenized</th>\n",
       "      <th>wordCount</th>\n",
       "    </tr>\n",
       "  </thead>\n",
       "  <tbody>\n",
       "    <tr>\n",
       "      <th>0</th>\n",
       "      <td>9/22/2012</td>\n",
       "      <td>GtwU21YOQn-wf4vWRUIx6w</td>\n",
       "      <td>bNYesZ944s6IJVowOnB0iA</td>\n",
       "      <td>Unlike Next, which we'd eaten at the previous ...</td>\n",
       "      <td>5</td>\n",
       "      <td>0</td>\n",
       "      <td>0</td>\n",
       "      <td>0</td>\n",
       "      <td>N</td>\n",
       "      <td>pbEiXam9YJL3neCYHGwLUA</td>\n",
       "      <td>[Unlike, Next, ,, which, we, 'd, eaten, at, th...</td>\n",
       "      <td>1002</td>\n",
       "    </tr>\n",
       "    <tr>\n",
       "      <th>1</th>\n",
       "      <td>9/22/2012</td>\n",
       "      <td>0LpVTc3</td>\n",
       "      <td>TRKxLC3y-ZvP45e5iilMtw</td>\n",
       "      <td>Probably one of the best meals I've had ever. ...</td>\n",
       "      <td>5</td>\n",
       "      <td>0</td>\n",
       "      <td>0</td>\n",
       "      <td>0</td>\n",
       "      <td>N</td>\n",
       "      <td>pbEiXam9YJL3neCYHGwLUA</td>\n",
       "      <td>[Probably, one, of, the, best, meals, I, 've, ...</td>\n",
       "      <td>75</td>\n",
       "    </tr>\n",
       "    <tr>\n",
       "      <th>2</th>\n",
       "      <td>9/19/2012</td>\n",
       "      <td>tljtLzf68Fkwf</td>\n",
       "      <td>0EMm8umAqXZzyhxNpL4M9g</td>\n",
       "      <td>Service was impeccable. Experience and present...</td>\n",
       "      <td>3</td>\n",
       "      <td>2</td>\n",
       "      <td>0</td>\n",
       "      <td>0</td>\n",
       "      <td>N</td>\n",
       "      <td>pbEiXam9YJL3neCYHGwLUA</td>\n",
       "      <td>[Service, was, impeccable, ., Experience, and,...</td>\n",
       "      <td>54</td>\n",
       "    </tr>\n",
       "    <tr>\n",
       "      <th>3</th>\n",
       "      <td>9/6/2012</td>\n",
       "      <td>iSN</td>\n",
       "      <td>DlwexC7z88ymAzu45skODw</td>\n",
       "      <td>The problem with places like this, given the e...</td>\n",
       "      <td>3</td>\n",
       "      <td>8</td>\n",
       "      <td>0</td>\n",
       "      <td>3</td>\n",
       "      <td>N</td>\n",
       "      <td>pbEiXam9YJL3neCYHGwLUA</td>\n",
       "      <td>[The, problem, with, places, like, this, ,, gi...</td>\n",
       "      <td>435</td>\n",
       "    </tr>\n",
       "    <tr>\n",
       "      <th>4</th>\n",
       "      <td>9/9/2012</td>\n",
       "      <td>Jmwrh7</td>\n",
       "      <td>kW2dk1CWihmh3g7k9N2G8A</td>\n",
       "      <td>I have no idea how to write my review - dining...</td>\n",
       "      <td>5</td>\n",
       "      <td>1</td>\n",
       "      <td>2</td>\n",
       "      <td>0</td>\n",
       "      <td>N</td>\n",
       "      <td>pbEiXam9YJL3neCYHGwLUA</td>\n",
       "      <td>[I, have, no, idea, how, to, write, my, review...</td>\n",
       "      <td>196</td>\n",
       "    </tr>\n",
       "    <tr>\n",
       "      <th>...</th>\n",
       "      <td>...</td>\n",
       "      <td>...</td>\n",
       "      <td>...</td>\n",
       "      <td>...</td>\n",
       "      <td>...</td>\n",
       "      <td>...</td>\n",
       "      <td>...</td>\n",
       "      <td>...</td>\n",
       "      <td>...</td>\n",
       "      <td>...</td>\n",
       "      <td>...</td>\n",
       "      <td>...</td>\n",
       "    </tr>\n",
       "    <tr>\n",
       "      <th>497204</th>\n",
       "      <td>4/7/2012</td>\n",
       "      <td>I6pazvTPUqRtU</td>\n",
       "      <td>fUXNHG4x1AN9oPpBSpCtUw</td>\n",
       "      <td>I've passed this place a bunch of times on my ...</td>\n",
       "      <td>5</td>\n",
       "      <td>0</td>\n",
       "      <td>0</td>\n",
       "      <td>1</td>\n",
       "      <td>N</td>\n",
       "      <td>_KI0Y2UO68kJuTFUKucaXQ</td>\n",
       "      <td>[I, 've, passed, this, place, a, bunch, of, ti...</td>\n",
       "      <td>86</td>\n",
       "    </tr>\n",
       "    <tr>\n",
       "      <th>501512</th>\n",
       "      <td>6/5/2009</td>\n",
       "      <td>gu7FbL</td>\n",
       "      <td>QQCm2oqSnnz24Z-yHeMtxQ</td>\n",
       "      <td>Rubino's is not really setup as a retail opera...</td>\n",
       "      <td>4</td>\n",
       "      <td>1</td>\n",
       "      <td>1</td>\n",
       "      <td>0</td>\n",
       "      <td>N</td>\n",
       "      <td>_KI0Y2UO68kJuTFUKucaXQ</td>\n",
       "      <td>[Rubino, 's, is, not, really, setup, as, a, re...</td>\n",
       "      <td>63</td>\n",
       "    </tr>\n",
       "    <tr>\n",
       "      <th>504898</th>\n",
       "      <td>5/6/2012</td>\n",
       "      <td>hLwn6zw</td>\n",
       "      <td>OXRKydSyzC35n2fNUnbopg</td>\n",
       "      <td>This place is amazing.  The food is great and ...</td>\n",
       "      <td>5</td>\n",
       "      <td>0</td>\n",
       "      <td>0</td>\n",
       "      <td>0</td>\n",
       "      <td>N</td>\n",
       "      <td>XvP-kanjF6SpchosRk0N5g</td>\n",
       "      <td>[This, place, is, amazing, ., The, food, is, g...</td>\n",
       "      <td>40</td>\n",
       "    </tr>\n",
       "    <tr>\n",
       "      <th>506036</th>\n",
       "      <td>Updated - 1/8/2011</td>\n",
       "      <td>KEkOzeO9YJ</td>\n",
       "      <td>NE8ULc362aFvnkTDgvZbcA</td>\n",
       "      <td>OK went back the next day as I was driving by ...</td>\n",
       "      <td>2</td>\n",
       "      <td>2</td>\n",
       "      <td>1</td>\n",
       "      <td>0</td>\n",
       "      <td>N</td>\n",
       "      <td>XvP-kanjF6SpchosRk0N5g</td>\n",
       "      <td>[OK, went, back, the, next, day, as, I, was, d...</td>\n",
       "      <td>124</td>\n",
       "    </tr>\n",
       "    <tr>\n",
       "      <th>506191</th>\n",
       "      <td>1/25/2010</td>\n",
       "      <td>xYkvLLWMyyYO3JEX68H</td>\n",
       "      <td>VaPi2-eXcgIpRF_LGSJ_cA</td>\n",
       "      <td>Delicious, rather authentic Mexican food, must...</td>\n",
       "      <td>5</td>\n",
       "      <td>0</td>\n",
       "      <td>0</td>\n",
       "      <td>0</td>\n",
       "      <td>N</td>\n",
       "      <td>XvP-kanjF6SpchosRk0N5g</td>\n",
       "      <td>[Delicious, ,, rather, authentic, Mexican, foo...</td>\n",
       "      <td>50</td>\n",
       "    </tr>\n",
       "  </tbody>\n",
       "</table>\n",
       "<p>58716 rows × 12 columns</p>\n",
       "</div>"
      ],
      "text/plain": [
       "                      date                reviewID              reviewerID  \\\n",
       "0                9/22/2012  GtwU21YOQn-wf4vWRUIx6w  bNYesZ944s6IJVowOnB0iA   \n",
       "1                9/22/2012                 0LpVTc3  TRKxLC3y-ZvP45e5iilMtw   \n",
       "2                9/19/2012           tljtLzf68Fkwf  0EMm8umAqXZzyhxNpL4M9g   \n",
       "3                 9/6/2012                     iSN  DlwexC7z88ymAzu45skODw   \n",
       "4                 9/9/2012                  Jmwrh7  kW2dk1CWihmh3g7k9N2G8A   \n",
       "...                    ...                     ...                     ...   \n",
       "497204            4/7/2012           I6pazvTPUqRtU  fUXNHG4x1AN9oPpBSpCtUw   \n",
       "501512            6/5/2009                  gu7FbL  QQCm2oqSnnz24Z-yHeMtxQ   \n",
       "504898            5/6/2012                 hLwn6zw  OXRKydSyzC35n2fNUnbopg   \n",
       "506036  Updated - 1/8/2011              KEkOzeO9YJ  NE8ULc362aFvnkTDgvZbcA   \n",
       "506191           1/25/2010     xYkvLLWMyyYO3JEX68H  VaPi2-eXcgIpRF_LGSJ_cA   \n",
       "\n",
       "                                            reviewContent  rating  \\\n",
       "0       Unlike Next, which we'd eaten at the previous ...       5   \n",
       "1       Probably one of the best meals I've had ever. ...       5   \n",
       "2       Service was impeccable. Experience and present...       3   \n",
       "3       The problem with places like this, given the e...       3   \n",
       "4       I have no idea how to write my review - dining...       5   \n",
       "...                                                   ...     ...   \n",
       "497204  I've passed this place a bunch of times on my ...       5   \n",
       "501512  Rubino's is not really setup as a retail opera...       4   \n",
       "504898  This place is amazing.  The food is great and ...       5   \n",
       "506036  OK went back the next day as I was driving by ...       2   \n",
       "506191  Delicious, rather authentic Mexican food, must...       5   \n",
       "\n",
       "        usefulCount  coolCount  funnyCount flagged            restaurantID  \\\n",
       "0                 0          0           0       N  pbEiXam9YJL3neCYHGwLUA   \n",
       "1                 0          0           0       N  pbEiXam9YJL3neCYHGwLUA   \n",
       "2                 2          0           0       N  pbEiXam9YJL3neCYHGwLUA   \n",
       "3                 8          0           3       N  pbEiXam9YJL3neCYHGwLUA   \n",
       "4                 1          2           0       N  pbEiXam9YJL3neCYHGwLUA   \n",
       "...             ...        ...         ...     ...                     ...   \n",
       "497204            0          0           1       N  _KI0Y2UO68kJuTFUKucaXQ   \n",
       "501512            1          1           0       N  _KI0Y2UO68kJuTFUKucaXQ   \n",
       "504898            0          0           0       N  XvP-kanjF6SpchosRk0N5g   \n",
       "506036            2          1           0       N  XvP-kanjF6SpchosRk0N5g   \n",
       "506191            0          0           0       N  XvP-kanjF6SpchosRk0N5g   \n",
       "\n",
       "                                            wordTokenized  wordCount  \n",
       "0       [Unlike, Next, ,, which, we, 'd, eaten, at, th...       1002  \n",
       "1       [Probably, one, of, the, best, meals, I, 've, ...         75  \n",
       "2       [Service, was, impeccable, ., Experience, and,...         54  \n",
       "3       [The, problem, with, places, like, this, ,, gi...        435  \n",
       "4       [I, have, no, idea, how, to, write, my, review...        196  \n",
       "...                                                   ...        ...  \n",
       "497204  [I, 've, passed, this, place, a, bunch, of, ti...         86  \n",
       "501512  [Rubino, 's, is, not, really, setup, as, a, re...         63  \n",
       "504898  [This, place, is, amazing, ., The, food, is, g...         40  \n",
       "506036  [OK, went, back, the, next, day, as, I, was, d...        124  \n",
       "506191  [Delicious, ,, rather, authentic, Mexican, foo...         50  \n",
       "\n",
       "[58716 rows x 12 columns]"
      ]
     },
     "execution_count": 116,
     "metadata": {},
     "output_type": "execute_result"
    }
   ],
   "source": [
    "real_reviews"
   ]
  },
  {
   "cell_type": "code",
   "execution_count": 117,
   "id": "16f6502f-d0ab-40de-aabe-1d4d4bf097b3",
   "metadata": {
    "tags": []
   },
   "outputs": [
    {
     "data": {
      "text/html": [
       "<div>\n",
       "<style scoped>\n",
       "    .dataframe tbody tr th:only-of-type {\n",
       "        vertical-align: middle;\n",
       "    }\n",
       "\n",
       "    .dataframe tbody tr th {\n",
       "        vertical-align: top;\n",
       "    }\n",
       "\n",
       "    .dataframe thead th {\n",
       "        text-align: right;\n",
       "    }\n",
       "</style>\n",
       "<table border=\"1\" class=\"dataframe\">\n",
       "  <thead>\n",
       "    <tr style=\"text-align: right;\">\n",
       "      <th></th>\n",
       "      <th>date</th>\n",
       "      <th>reviewID</th>\n",
       "      <th>reviewerID</th>\n",
       "      <th>reviewContent</th>\n",
       "      <th>rating</th>\n",
       "      <th>usefulCount</th>\n",
       "      <th>coolCount</th>\n",
       "      <th>funnyCount</th>\n",
       "      <th>flagged</th>\n",
       "      <th>restaurantID</th>\n",
       "      <th>wordTokenized</th>\n",
       "      <th>wordCount</th>\n",
       "    </tr>\n",
       "  </thead>\n",
       "  <tbody>\n",
       "    <tr>\n",
       "      <th>58589</th>\n",
       "      <td>8/25/2012</td>\n",
       "      <td>XgqV3Ac0CLg2R-_c-yZvTw</td>\n",
       "      <td>tfn2U8XfLaJnRD9EXpTxLQ</td>\n",
       "      <td>The food is amazing.  I have two tickets for t...</td>\n",
       "      <td>5</td>\n",
       "      <td>0</td>\n",
       "      <td>0</td>\n",
       "      <td>0</td>\n",
       "      <td>Y</td>\n",
       "      <td>pbEiXam9YJL3neCYHGwLUA</td>\n",
       "      <td>[The, food, is, amazing, ., I, have, two, tick...</td>\n",
       "      <td>46</td>\n",
       "    </tr>\n",
       "    <tr>\n",
       "      <th>58590</th>\n",
       "      <td>8/22/2012</td>\n",
       "      <td>T45v0q1_dbYkDMAJCwoFwg</td>\n",
       "      <td>GHoG4X4FY8D8L563zzPX5w</td>\n",
       "      <td>I did not know what to expect from this restau...</td>\n",
       "      <td>5</td>\n",
       "      <td>0</td>\n",
       "      <td>0</td>\n",
       "      <td>0</td>\n",
       "      <td>Y</td>\n",
       "      <td>pbEiXam9YJL3neCYHGwLUA</td>\n",
       "      <td>[I, did, not, know, what, to, expect, from, th...</td>\n",
       "      <td>851</td>\n",
       "    </tr>\n",
       "    <tr>\n",
       "      <th>58591</th>\n",
       "      <td>8/9/2012</td>\n",
       "      <td>YPEHZA4pSQFhNDgvg8RAMg</td>\n",
       "      <td>0bjwIPaxbJDDwZXoVcPNqg</td>\n",
       "      <td>I liked the services offered by (Alinea) resta...</td>\n",
       "      <td>3</td>\n",
       "      <td>0</td>\n",
       "      <td>0</td>\n",
       "      <td>0</td>\n",
       "      <td>Y</td>\n",
       "      <td>pbEiXam9YJL3neCYHGwLUA</td>\n",
       "      <td>[I, liked, the, services, offered, by, (, Alin...</td>\n",
       "      <td>28</td>\n",
       "    </tr>\n",
       "    <tr>\n",
       "      <th>58592</th>\n",
       "      <td>8/8/2012</td>\n",
       "      <td>ZfpyS5xz5FQbdijiOi2xzg</td>\n",
       "      <td>D0BzL4qUp3PtGAO12eAExg</td>\n",
       "      <td>I liked the services offered by (Alinea) resta...</td>\n",
       "      <td>4</td>\n",
       "      <td>0</td>\n",
       "      <td>0</td>\n",
       "      <td>0</td>\n",
       "      <td>Y</td>\n",
       "      <td>pbEiXam9YJL3neCYHGwLUA</td>\n",
       "      <td>[I, liked, the, services, offered, by, (, Alin...</td>\n",
       "      <td>28</td>\n",
       "    </tr>\n",
       "    <tr>\n",
       "      <th>58593</th>\n",
       "      <td>8/3/2012</td>\n",
       "      <td>mIzc61fH3bpNkxDzO7nX0w</td>\n",
       "      <td>_JFcE8DVCsCq-A6C727GnA</td>\n",
       "      <td>Presumably one of the best restaurants in Amer...</td>\n",
       "      <td>5</td>\n",
       "      <td>0</td>\n",
       "      <td>0</td>\n",
       "      <td>0</td>\n",
       "      <td>Y</td>\n",
       "      <td>pbEiXam9YJL3neCYHGwLUA</td>\n",
       "      <td>[Presumably, one, of, the, best, restaurants, ...</td>\n",
       "      <td>115</td>\n",
       "    </tr>\n",
       "    <tr>\n",
       "      <th>...</th>\n",
       "      <td>...</td>\n",
       "      <td>...</td>\n",
       "      <td>...</td>\n",
       "      <td>...</td>\n",
       "      <td>...</td>\n",
       "      <td>...</td>\n",
       "      <td>...</td>\n",
       "      <td>...</td>\n",
       "      <td>...</td>\n",
       "      <td>...</td>\n",
       "      <td>...</td>\n",
       "      <td>...</td>\n",
       "    </tr>\n",
       "    <tr>\n",
       "      <th>66887</th>\n",
       "      <td>\\n3/2/2012</td>\n",
       "      <td>Hr0bENBZzznWhYGKSSEEJA</td>\n",
       "      <td>i2Th0Zskb4Ry_aVZQMIR_Q</td>\n",
       "      <td>I've been back twice since my first post and e...</td>\n",
       "      <td>5</td>\n",
       "      <td>0</td>\n",
       "      <td>0</td>\n",
       "      <td>0</td>\n",
       "      <td>Y</td>\n",
       "      <td>mCHto10PBQOKnefm7gholg</td>\n",
       "      <td>[I, 've, been, back, twice, since, my, first, ...</td>\n",
       "      <td>146</td>\n",
       "    </tr>\n",
       "    <tr>\n",
       "      <th>66888</th>\n",
       "      <td>2/18/2012</td>\n",
       "      <td>qGvPCsS3krxl5O5fo9Qasw</td>\n",
       "      <td>UqTtumV5SGzzW2gtJc-fNg</td>\n",
       "      <td>A good dining experience soured by a \"mistake\"...</td>\n",
       "      <td>1</td>\n",
       "      <td>0</td>\n",
       "      <td>0</td>\n",
       "      <td>0</td>\n",
       "      <td>Y</td>\n",
       "      <td>mCHto10PBQOKnefm7gholg</td>\n",
       "      <td>[A, good, dining, experience, soured, by, a, `...</td>\n",
       "      <td>203</td>\n",
       "    </tr>\n",
       "    <tr>\n",
       "      <th>66889</th>\n",
       "      <td>12/31/2011</td>\n",
       "      <td>znZdvMF_Q-rCT3ih3-AQAg</td>\n",
       "      <td>Y-yZy5TWmWrC6mlY_BaseQ</td>\n",
       "      <td>Great food and good service. It's BYOB, so bri...</td>\n",
       "      <td>5</td>\n",
       "      <td>0</td>\n",
       "      <td>0</td>\n",
       "      <td>0</td>\n",
       "      <td>Y</td>\n",
       "      <td>mCHto10PBQOKnefm7gholg</td>\n",
       "      <td>[Great, food, and, good, service, ., It, 's, B...</td>\n",
       "      <td>38</td>\n",
       "    </tr>\n",
       "    <tr>\n",
       "      <th>66890</th>\n",
       "      <td>12/17/2011</td>\n",
       "      <td>tgbjSaEGOGyV6q1y13Mi8Q</td>\n",
       "      <td>Yva1UlQvZ-MGfJEQMWrk8Q</td>\n",
       "      <td>This is a must dine restaurant. After we saw t...</td>\n",
       "      <td>5</td>\n",
       "      <td>0</td>\n",
       "      <td>0</td>\n",
       "      <td>0</td>\n",
       "      <td>Y</td>\n",
       "      <td>mCHto10PBQOKnefm7gholg</td>\n",
       "      <td>[This, is, a, must, dine, restaurant, ., After...</td>\n",
       "      <td>68</td>\n",
       "    </tr>\n",
       "    <tr>\n",
       "      <th>66891</th>\n",
       "      <td>9/2/2011</td>\n",
       "      <td>InWZPBG72GkTXlffEIRM6A</td>\n",
       "      <td>JxRoSYDX_18vTEPnyLaupw</td>\n",
       "      <td>I came here about 5 times and the food is alwa...</td>\n",
       "      <td>4</td>\n",
       "      <td>0</td>\n",
       "      <td>0</td>\n",
       "      <td>0</td>\n",
       "      <td>Y</td>\n",
       "      <td>mCHto10PBQOKnefm7gholg</td>\n",
       "      <td>[I, came, here, about, 5, times, and, the, foo...</td>\n",
       "      <td>141</td>\n",
       "    </tr>\n",
       "  </tbody>\n",
       "</table>\n",
       "<p>8303 rows × 12 columns</p>\n",
       "</div>"
      ],
      "text/plain": [
       "             date                reviewID              reviewerID  \\\n",
       "58589   8/25/2012  XgqV3Ac0CLg2R-_c-yZvTw  tfn2U8XfLaJnRD9EXpTxLQ   \n",
       "58590   8/22/2012  T45v0q1_dbYkDMAJCwoFwg  GHoG4X4FY8D8L563zzPX5w   \n",
       "58591    8/9/2012  YPEHZA4pSQFhNDgvg8RAMg  0bjwIPaxbJDDwZXoVcPNqg   \n",
       "58592    8/8/2012  ZfpyS5xz5FQbdijiOi2xzg  D0BzL4qUp3PtGAO12eAExg   \n",
       "58593    8/3/2012  mIzc61fH3bpNkxDzO7nX0w  _JFcE8DVCsCq-A6C727GnA   \n",
       "...           ...                     ...                     ...   \n",
       "66887  \\n3/2/2012  Hr0bENBZzznWhYGKSSEEJA  i2Th0Zskb4Ry_aVZQMIR_Q   \n",
       "66888   2/18/2012  qGvPCsS3krxl5O5fo9Qasw  UqTtumV5SGzzW2gtJc-fNg   \n",
       "66889  12/31/2011  znZdvMF_Q-rCT3ih3-AQAg  Y-yZy5TWmWrC6mlY_BaseQ   \n",
       "66890  12/17/2011  tgbjSaEGOGyV6q1y13Mi8Q  Yva1UlQvZ-MGfJEQMWrk8Q   \n",
       "66891    9/2/2011  InWZPBG72GkTXlffEIRM6A  JxRoSYDX_18vTEPnyLaupw   \n",
       "\n",
       "                                           reviewContent  rating  usefulCount  \\\n",
       "58589  The food is amazing.  I have two tickets for t...       5            0   \n",
       "58590  I did not know what to expect from this restau...       5            0   \n",
       "58591  I liked the services offered by (Alinea) resta...       3            0   \n",
       "58592  I liked the services offered by (Alinea) resta...       4            0   \n",
       "58593  Presumably one of the best restaurants in Amer...       5            0   \n",
       "...                                                  ...     ...          ...   \n",
       "66887  I've been back twice since my first post and e...       5            0   \n",
       "66888  A good dining experience soured by a \"mistake\"...       1            0   \n",
       "66889  Great food and good service. It's BYOB, so bri...       5            0   \n",
       "66890  This is a must dine restaurant. After we saw t...       5            0   \n",
       "66891  I came here about 5 times and the food is alwa...       4            0   \n",
       "\n",
       "       coolCount  funnyCount flagged            restaurantID  \\\n",
       "58589          0           0       Y  pbEiXam9YJL3neCYHGwLUA   \n",
       "58590          0           0       Y  pbEiXam9YJL3neCYHGwLUA   \n",
       "58591          0           0       Y  pbEiXam9YJL3neCYHGwLUA   \n",
       "58592          0           0       Y  pbEiXam9YJL3neCYHGwLUA   \n",
       "58593          0           0       Y  pbEiXam9YJL3neCYHGwLUA   \n",
       "...          ...         ...     ...                     ...   \n",
       "66887          0           0       Y  mCHto10PBQOKnefm7gholg   \n",
       "66888          0           0       Y  mCHto10PBQOKnefm7gholg   \n",
       "66889          0           0       Y  mCHto10PBQOKnefm7gholg   \n",
       "66890          0           0       Y  mCHto10PBQOKnefm7gholg   \n",
       "66891          0           0       Y  mCHto10PBQOKnefm7gholg   \n",
       "\n",
       "                                           wordTokenized  wordCount  \n",
       "58589  [The, food, is, amazing, ., I, have, two, tick...         46  \n",
       "58590  [I, did, not, know, what, to, expect, from, th...        851  \n",
       "58591  [I, liked, the, services, offered, by, (, Alin...         28  \n",
       "58592  [I, liked, the, services, offered, by, (, Alin...         28  \n",
       "58593  [Presumably, one, of, the, best, restaurants, ...        115  \n",
       "...                                                  ...        ...  \n",
       "66887  [I, 've, been, back, twice, since, my, first, ...        146  \n",
       "66888  [A, good, dining, experience, soured, by, a, `...        203  \n",
       "66889  [Great, food, and, good, service, ., It, 's, B...         38  \n",
       "66890  [This, is, a, must, dine, restaurant, ., After...         68  \n",
       "66891  [I, came, here, about, 5, times, and, the, foo...        141  \n",
       "\n",
       "[8303 rows x 12 columns]"
      ]
     },
     "execution_count": 117,
     "metadata": {},
     "output_type": "execute_result"
    }
   ],
   "source": [
    "fake_reviews"
   ]
  },
  {
   "cell_type": "code",
   "execution_count": 114,
   "id": "c1af6fc1-469a-4c68-b4e1-38d8ab21fa43",
   "metadata": {
    "tags": []
   },
   "outputs": [
    {
     "data": {
      "text/plain": [
       "count    58716.000000\n",
       "mean       167.962004\n",
       "std        140.869338\n",
       "min          1.000000\n",
       "25%         73.000000\n",
       "50%        130.000000\n",
       "75%        221.000000\n",
       "max       1351.000000\n",
       "Name: wordCount, dtype: float64"
      ]
     },
     "execution_count": 114,
     "metadata": {},
     "output_type": "execute_result"
    }
   ],
   "source": [
    "real_reviews['wordCount'].describe()"
   ]
  },
  {
   "cell_type": "code",
   "execution_count": 115,
   "id": "2b3a691d-fc68-434e-8587-dad32042fe7e",
   "metadata": {
    "tags": []
   },
   "outputs": [
    {
     "data": {
      "text/plain": [
       "count    8303.000000\n",
       "mean      113.714922\n",
       "std       112.431127\n",
       "min         1.000000\n",
       "25%        42.000000\n",
       "50%        80.000000\n",
       "75%       143.000000\n",
       "max      1087.000000\n",
       "Name: wordCount, dtype: float64"
      ]
     },
     "execution_count": 115,
     "metadata": {},
     "output_type": "execute_result"
    }
   ],
   "source": [
    "fake_reviews['wordCount'].describe()"
   ]
  }
 ],
 "metadata": {
  "availableInstances": [
   {
    "_defaultOrder": 0,
    "_isFastLaunch": true,
    "category": "General purpose",
    "gpuNum": 0,
    "hideHardwareSpecs": false,
    "memoryGiB": 4,
    "name": "ml.t3.medium",
    "vcpuNum": 2
   },
   {
    "_defaultOrder": 1,
    "_isFastLaunch": false,
    "category": "General purpose",
    "gpuNum": 0,
    "hideHardwareSpecs": false,
    "memoryGiB": 8,
    "name": "ml.t3.large",
    "vcpuNum": 2
   },
   {
    "_defaultOrder": 2,
    "_isFastLaunch": false,
    "category": "General purpose",
    "gpuNum": 0,
    "hideHardwareSpecs": false,
    "memoryGiB": 16,
    "name": "ml.t3.xlarge",
    "vcpuNum": 4
   },
   {
    "_defaultOrder": 3,
    "_isFastLaunch": false,
    "category": "General purpose",
    "gpuNum": 0,
    "hideHardwareSpecs": false,
    "memoryGiB": 32,
    "name": "ml.t3.2xlarge",
    "vcpuNum": 8
   },
   {
    "_defaultOrder": 4,
    "_isFastLaunch": true,
    "category": "General purpose",
    "gpuNum": 0,
    "hideHardwareSpecs": false,
    "memoryGiB": 8,
    "name": "ml.m5.large",
    "vcpuNum": 2
   },
   {
    "_defaultOrder": 5,
    "_isFastLaunch": false,
    "category": "General purpose",
    "gpuNum": 0,
    "hideHardwareSpecs": false,
    "memoryGiB": 16,
    "name": "ml.m5.xlarge",
    "vcpuNum": 4
   },
   {
    "_defaultOrder": 6,
    "_isFastLaunch": false,
    "category": "General purpose",
    "gpuNum": 0,
    "hideHardwareSpecs": false,
    "memoryGiB": 32,
    "name": "ml.m5.2xlarge",
    "vcpuNum": 8
   },
   {
    "_defaultOrder": 7,
    "_isFastLaunch": false,
    "category": "General purpose",
    "gpuNum": 0,
    "hideHardwareSpecs": false,
    "memoryGiB": 64,
    "name": "ml.m5.4xlarge",
    "vcpuNum": 16
   },
   {
    "_defaultOrder": 8,
    "_isFastLaunch": false,
    "category": "General purpose",
    "gpuNum": 0,
    "hideHardwareSpecs": false,
    "memoryGiB": 128,
    "name": "ml.m5.8xlarge",
    "vcpuNum": 32
   },
   {
    "_defaultOrder": 9,
    "_isFastLaunch": false,
    "category": "General purpose",
    "gpuNum": 0,
    "hideHardwareSpecs": false,
    "memoryGiB": 192,
    "name": "ml.m5.12xlarge",
    "vcpuNum": 48
   },
   {
    "_defaultOrder": 10,
    "_isFastLaunch": false,
    "category": "General purpose",
    "gpuNum": 0,
    "hideHardwareSpecs": false,
    "memoryGiB": 256,
    "name": "ml.m5.16xlarge",
    "vcpuNum": 64
   },
   {
    "_defaultOrder": 11,
    "_isFastLaunch": false,
    "category": "General purpose",
    "gpuNum": 0,
    "hideHardwareSpecs": false,
    "memoryGiB": 384,
    "name": "ml.m5.24xlarge",
    "vcpuNum": 96
   },
   {
    "_defaultOrder": 12,
    "_isFastLaunch": false,
    "category": "General purpose",
    "gpuNum": 0,
    "hideHardwareSpecs": false,
    "memoryGiB": 8,
    "name": "ml.m5d.large",
    "vcpuNum": 2
   },
   {
    "_defaultOrder": 13,
    "_isFastLaunch": false,
    "category": "General purpose",
    "gpuNum": 0,
    "hideHardwareSpecs": false,
    "memoryGiB": 16,
    "name": "ml.m5d.xlarge",
    "vcpuNum": 4
   },
   {
    "_defaultOrder": 14,
    "_isFastLaunch": false,
    "category": "General purpose",
    "gpuNum": 0,
    "hideHardwareSpecs": false,
    "memoryGiB": 32,
    "name": "ml.m5d.2xlarge",
    "vcpuNum": 8
   },
   {
    "_defaultOrder": 15,
    "_isFastLaunch": false,
    "category": "General purpose",
    "gpuNum": 0,
    "hideHardwareSpecs": false,
    "memoryGiB": 64,
    "name": "ml.m5d.4xlarge",
    "vcpuNum": 16
   },
   {
    "_defaultOrder": 16,
    "_isFastLaunch": false,
    "category": "General purpose",
    "gpuNum": 0,
    "hideHardwareSpecs": false,
    "memoryGiB": 128,
    "name": "ml.m5d.8xlarge",
    "vcpuNum": 32
   },
   {
    "_defaultOrder": 17,
    "_isFastLaunch": false,
    "category": "General purpose",
    "gpuNum": 0,
    "hideHardwareSpecs": false,
    "memoryGiB": 192,
    "name": "ml.m5d.12xlarge",
    "vcpuNum": 48
   },
   {
    "_defaultOrder": 18,
    "_isFastLaunch": false,
    "category": "General purpose",
    "gpuNum": 0,
    "hideHardwareSpecs": false,
    "memoryGiB": 256,
    "name": "ml.m5d.16xlarge",
    "vcpuNum": 64
   },
   {
    "_defaultOrder": 19,
    "_isFastLaunch": false,
    "category": "General purpose",
    "gpuNum": 0,
    "hideHardwareSpecs": false,
    "memoryGiB": 384,
    "name": "ml.m5d.24xlarge",
    "vcpuNum": 96
   },
   {
    "_defaultOrder": 20,
    "_isFastLaunch": false,
    "category": "General purpose",
    "gpuNum": 0,
    "hideHardwareSpecs": true,
    "memoryGiB": 0,
    "name": "ml.geospatial.interactive",
    "supportedImageNames": [
     "sagemaker-geospatial-v1-0"
    ],
    "vcpuNum": 0
   },
   {
    "_defaultOrder": 21,
    "_isFastLaunch": true,
    "category": "Compute optimized",
    "gpuNum": 0,
    "hideHardwareSpecs": false,
    "memoryGiB": 4,
    "name": "ml.c5.large",
    "vcpuNum": 2
   },
   {
    "_defaultOrder": 22,
    "_isFastLaunch": false,
    "category": "Compute optimized",
    "gpuNum": 0,
    "hideHardwareSpecs": false,
    "memoryGiB": 8,
    "name": "ml.c5.xlarge",
    "vcpuNum": 4
   },
   {
    "_defaultOrder": 23,
    "_isFastLaunch": false,
    "category": "Compute optimized",
    "gpuNum": 0,
    "hideHardwareSpecs": false,
    "memoryGiB": 16,
    "name": "ml.c5.2xlarge",
    "vcpuNum": 8
   },
   {
    "_defaultOrder": 24,
    "_isFastLaunch": false,
    "category": "Compute optimized",
    "gpuNum": 0,
    "hideHardwareSpecs": false,
    "memoryGiB": 32,
    "name": "ml.c5.4xlarge",
    "vcpuNum": 16
   },
   {
    "_defaultOrder": 25,
    "_isFastLaunch": false,
    "category": "Compute optimized",
    "gpuNum": 0,
    "hideHardwareSpecs": false,
    "memoryGiB": 72,
    "name": "ml.c5.9xlarge",
    "vcpuNum": 36
   },
   {
    "_defaultOrder": 26,
    "_isFastLaunch": false,
    "category": "Compute optimized",
    "gpuNum": 0,
    "hideHardwareSpecs": false,
    "memoryGiB": 96,
    "name": "ml.c5.12xlarge",
    "vcpuNum": 48
   },
   {
    "_defaultOrder": 27,
    "_isFastLaunch": false,
    "category": "Compute optimized",
    "gpuNum": 0,
    "hideHardwareSpecs": false,
    "memoryGiB": 144,
    "name": "ml.c5.18xlarge",
    "vcpuNum": 72
   },
   {
    "_defaultOrder": 28,
    "_isFastLaunch": false,
    "category": "Compute optimized",
    "gpuNum": 0,
    "hideHardwareSpecs": false,
    "memoryGiB": 192,
    "name": "ml.c5.24xlarge",
    "vcpuNum": 96
   },
   {
    "_defaultOrder": 29,
    "_isFastLaunch": true,
    "category": "Accelerated computing",
    "gpuNum": 1,
    "hideHardwareSpecs": false,
    "memoryGiB": 16,
    "name": "ml.g4dn.xlarge",
    "vcpuNum": 4
   },
   {
    "_defaultOrder": 30,
    "_isFastLaunch": false,
    "category": "Accelerated computing",
    "gpuNum": 1,
    "hideHardwareSpecs": false,
    "memoryGiB": 32,
    "name": "ml.g4dn.2xlarge",
    "vcpuNum": 8
   },
   {
    "_defaultOrder": 31,
    "_isFastLaunch": false,
    "category": "Accelerated computing",
    "gpuNum": 1,
    "hideHardwareSpecs": false,
    "memoryGiB": 64,
    "name": "ml.g4dn.4xlarge",
    "vcpuNum": 16
   },
   {
    "_defaultOrder": 32,
    "_isFastLaunch": false,
    "category": "Accelerated computing",
    "gpuNum": 1,
    "hideHardwareSpecs": false,
    "memoryGiB": 128,
    "name": "ml.g4dn.8xlarge",
    "vcpuNum": 32
   },
   {
    "_defaultOrder": 33,
    "_isFastLaunch": false,
    "category": "Accelerated computing",
    "gpuNum": 4,
    "hideHardwareSpecs": false,
    "memoryGiB": 192,
    "name": "ml.g4dn.12xlarge",
    "vcpuNum": 48
   },
   {
    "_defaultOrder": 34,
    "_isFastLaunch": false,
    "category": "Accelerated computing",
    "gpuNum": 1,
    "hideHardwareSpecs": false,
    "memoryGiB": 256,
    "name": "ml.g4dn.16xlarge",
    "vcpuNum": 64
   },
   {
    "_defaultOrder": 35,
    "_isFastLaunch": false,
    "category": "Accelerated computing",
    "gpuNum": 1,
    "hideHardwareSpecs": false,
    "memoryGiB": 61,
    "name": "ml.p3.2xlarge",
    "vcpuNum": 8
   },
   {
    "_defaultOrder": 36,
    "_isFastLaunch": false,
    "category": "Accelerated computing",
    "gpuNum": 4,
    "hideHardwareSpecs": false,
    "memoryGiB": 244,
    "name": "ml.p3.8xlarge",
    "vcpuNum": 32
   },
   {
    "_defaultOrder": 37,
    "_isFastLaunch": false,
    "category": "Accelerated computing",
    "gpuNum": 8,
    "hideHardwareSpecs": false,
    "memoryGiB": 488,
    "name": "ml.p3.16xlarge",
    "vcpuNum": 64
   },
   {
    "_defaultOrder": 38,
    "_isFastLaunch": false,
    "category": "Accelerated computing",
    "gpuNum": 8,
    "hideHardwareSpecs": false,
    "memoryGiB": 768,
    "name": "ml.p3dn.24xlarge",
    "vcpuNum": 96
   },
   {
    "_defaultOrder": 39,
    "_isFastLaunch": false,
    "category": "Memory Optimized",
    "gpuNum": 0,
    "hideHardwareSpecs": false,
    "memoryGiB": 16,
    "name": "ml.r5.large",
    "vcpuNum": 2
   },
   {
    "_defaultOrder": 40,
    "_isFastLaunch": false,
    "category": "Memory Optimized",
    "gpuNum": 0,
    "hideHardwareSpecs": false,
    "memoryGiB": 32,
    "name": "ml.r5.xlarge",
    "vcpuNum": 4
   },
   {
    "_defaultOrder": 41,
    "_isFastLaunch": false,
    "category": "Memory Optimized",
    "gpuNum": 0,
    "hideHardwareSpecs": false,
    "memoryGiB": 64,
    "name": "ml.r5.2xlarge",
    "vcpuNum": 8
   },
   {
    "_defaultOrder": 42,
    "_isFastLaunch": false,
    "category": "Memory Optimized",
    "gpuNum": 0,
    "hideHardwareSpecs": false,
    "memoryGiB": 128,
    "name": "ml.r5.4xlarge",
    "vcpuNum": 16
   },
   {
    "_defaultOrder": 43,
    "_isFastLaunch": false,
    "category": "Memory Optimized",
    "gpuNum": 0,
    "hideHardwareSpecs": false,
    "memoryGiB": 256,
    "name": "ml.r5.8xlarge",
    "vcpuNum": 32
   },
   {
    "_defaultOrder": 44,
    "_isFastLaunch": false,
    "category": "Memory Optimized",
    "gpuNum": 0,
    "hideHardwareSpecs": false,
    "memoryGiB": 384,
    "name": "ml.r5.12xlarge",
    "vcpuNum": 48
   },
   {
    "_defaultOrder": 45,
    "_isFastLaunch": false,
    "category": "Memory Optimized",
    "gpuNum": 0,
    "hideHardwareSpecs": false,
    "memoryGiB": 512,
    "name": "ml.r5.16xlarge",
    "vcpuNum": 64
   },
   {
    "_defaultOrder": 46,
    "_isFastLaunch": false,
    "category": "Memory Optimized",
    "gpuNum": 0,
    "hideHardwareSpecs": false,
    "memoryGiB": 768,
    "name": "ml.r5.24xlarge",
    "vcpuNum": 96
   },
   {
    "_defaultOrder": 47,
    "_isFastLaunch": false,
    "category": "Accelerated computing",
    "gpuNum": 1,
    "hideHardwareSpecs": false,
    "memoryGiB": 16,
    "name": "ml.g5.xlarge",
    "vcpuNum": 4
   },
   {
    "_defaultOrder": 48,
    "_isFastLaunch": false,
    "category": "Accelerated computing",
    "gpuNum": 1,
    "hideHardwareSpecs": false,
    "memoryGiB": 32,
    "name": "ml.g5.2xlarge",
    "vcpuNum": 8
   },
   {
    "_defaultOrder": 49,
    "_isFastLaunch": false,
    "category": "Accelerated computing",
    "gpuNum": 1,
    "hideHardwareSpecs": false,
    "memoryGiB": 64,
    "name": "ml.g5.4xlarge",
    "vcpuNum": 16
   },
   {
    "_defaultOrder": 50,
    "_isFastLaunch": false,
    "category": "Accelerated computing",
    "gpuNum": 1,
    "hideHardwareSpecs": false,
    "memoryGiB": 128,
    "name": "ml.g5.8xlarge",
    "vcpuNum": 32
   },
   {
    "_defaultOrder": 51,
    "_isFastLaunch": false,
    "category": "Accelerated computing",
    "gpuNum": 1,
    "hideHardwareSpecs": false,
    "memoryGiB": 256,
    "name": "ml.g5.16xlarge",
    "vcpuNum": 64
   },
   {
    "_defaultOrder": 52,
    "_isFastLaunch": false,
    "category": "Accelerated computing",
    "gpuNum": 4,
    "hideHardwareSpecs": false,
    "memoryGiB": 192,
    "name": "ml.g5.12xlarge",
    "vcpuNum": 48
   },
   {
    "_defaultOrder": 53,
    "_isFastLaunch": false,
    "category": "Accelerated computing",
    "gpuNum": 4,
    "hideHardwareSpecs": false,
    "memoryGiB": 384,
    "name": "ml.g5.24xlarge",
    "vcpuNum": 96
   },
   {
    "_defaultOrder": 54,
    "_isFastLaunch": false,
    "category": "Accelerated computing",
    "gpuNum": 8,
    "hideHardwareSpecs": false,
    "memoryGiB": 768,
    "name": "ml.g5.48xlarge",
    "vcpuNum": 192
   },
   {
    "_defaultOrder": 55,
    "_isFastLaunch": false,
    "category": "Accelerated computing",
    "gpuNum": 8,
    "hideHardwareSpecs": false,
    "memoryGiB": 1152,
    "name": "ml.p4d.24xlarge",
    "vcpuNum": 96
   },
   {
    "_defaultOrder": 56,
    "_isFastLaunch": false,
    "category": "Accelerated computing",
    "gpuNum": 8,
    "hideHardwareSpecs": false,
    "memoryGiB": 1152,
    "name": "ml.p4de.24xlarge",
    "vcpuNum": 96
   }
  ],
  "kernelspec": {
   "display_name": "Python 3 (Data Science)",
   "language": "python",
   "name": "python3__SAGEMAKER_INTERNAL__arn:aws:sagemaker:us-east-1:081325390199:image/datascience-1.0"
  },
  "language_info": {
   "codemirror_mode": {
    "name": "ipython",
    "version": 3
   },
   "file_extension": ".py",
   "mimetype": "text/x-python",
   "name": "python",
   "nbconvert_exporter": "python",
   "pygments_lexer": "ipython3",
   "version": "3.7.10"
  }
 },
 "nbformat": 4,
 "nbformat_minor": 5
}
