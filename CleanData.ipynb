{
 "cells": [
  {
   "cell_type": "code",
   "execution_count": 1,
   "id": "11bad7a6-3984-4141-b8a3-d4fa880c99f0",
   "metadata": {
    "tags": []
   },
   "outputs": [],
   "source": [
    "# Run this cell to import or install the Data Wrangler widget to show automatic visualization and generate code to fix data quality issues\n",
    "\n",
    "try:\n",
    "    import sagemaker_datawrangler\n",
    "except ImportError:\n",
    "    !pip install --upgrade sagemaker-datawrangler\n",
    "    import sagemaker_datawrangler\n",
    "\n",
    "# Display Pandas DataFrame to view the widget: df, display(df), df.sample()... "
   ]
  },
  {
   "cell_type": "code",
   "execution_count": 2,
   "id": "ef8b9b98-b0fb-4b90-89d9-e2ebf09030e8",
   "metadata": {
    "tags": []
   },
   "outputs": [],
   "source": [
    "from sagemaker import get_execution_role #this contains the permissions to access the bucket\n",
    "import boto3 #aws python client\n",
    "import pandas as pd\n",
    "s3 = boto3.client('s3') #connect to S3\n",
    "bucketName = \"cs539-e2023-149b5d57-81a4-4e31-a476-c81e7e07dc33\""
   ]
  },
  {
   "cell_type": "code",
   "execution_count": 6,
   "id": "c9948d19-c321-4ca0-a439-97346e109333",
   "metadata": {
    "tags": []
   },
   "outputs": [],
   "source": [
    "import re\n",
    "REGEX_WHITESPACE = re.compile(r\"\\s+\")\n",
    "REGEX_INVALID_CHARS = re.compile(r'[,\\-]')\n",
    "\n",
    "def cleanText(text):\n",
    "    #remove newlines and tabs and spaces\n",
    "    text = str(text)\n",
    "    text = REGEX_WHITESPACE.sub(' ', text)\n",
    "    text = REGEX_INVALID_CHARS.sub('',text)\n",
    "    return text\n",
    "    \n",
    "def getType(val):\n",
    "    return type(val).__name__"
   ]
  },
  {
   "cell_type": "code",
   "execution_count": 28,
   "id": "b708fff1-2344-4204-9b3d-7789d9984e2d",
   "metadata": {
    "tags": []
   },
   "outputs": [
    {
     "data": {
      "application/vnd.jupyter.widget-view+json": {
       "model_id": "c650492355374b41b89b12aede57ae74"
      },
      "text/plain": [
       "                    review_id                 user_id             business_id  \\\n",
       "0      GtwU21YOQn-wf4vWRUIx6w  bNYesZ944s6IJVowOnB0iA  pbEiXam9YJL3neCYHGwLUA   \n",
       "1                     0LpVTc3  TRKxLC3y-ZvP45e5iilMtw  pbEiXam9YJL3neCYHGwLUA   \n",
       "2               tljtLzf68Fkwf  0EMm8umAqXZzyhxNpL4M9g  pbEiXam9YJL3neCYHGwLUA   \n",
       "3                         iSN  DlwexC7z88ymAzu45skODw  pbEiXam9YJL3neCYHGwLUA   \n",
       "4                      Jmwrh7  kW2dk1CWihmh3g7k9N2G8A  pbEiXam9YJL3neCYHGwLUA   \n",
       "...                       ...                     ...                     ...   \n",
       "67014           I6pazvTPUqRtU  fUXNHG4x1AN9oPpBSpCtUw  _KI0Y2UO68kJuTFUKucaXQ   \n",
       "67015                  gu7FbL  QQCm2oqSnnz24Z-yHeMtxQ  _KI0Y2UO68kJuTFUKucaXQ   \n",
       "67016                 hLwn6zw  OXRKydSyzC35n2fNUnbopg  XvP-kanjF6SpchosRk0N5g   \n",
       "67017              KEkOzeO9YJ  NE8ULc362aFvnkTDgvZbcA  XvP-kanjF6SpchosRk0N5g   \n",
       "67018     xYkvLLWMyyYO3JEX68H  VaPi2-eXcgIpRF_LGSJ_cA  XvP-kanjF6SpchosRk0N5g   \n",
       "\n",
       "       stars  useful  cool  funny  \\\n",
       "0          5       0     0      0   \n",
       "1          5       0     0      0   \n",
       "2          3       2     0      0   \n",
       "3          3       8     0      3   \n",
       "4          5       1     2      0   \n",
       "...      ...     ...   ...    ...   \n",
       "67014      5       0     0      1   \n",
       "67015      4       1     1      0   \n",
       "67016      5       0     0      0   \n",
       "67017      2       2     1      0   \n",
       "67018      5       0     0      0   \n",
       "\n",
       "                                                    text                date  \\\n",
       "0      Unlike Next, which we'd eaten at the previous ...           9/22/2012   \n",
       "1      Probably one of the best meals I've had ever. ...           9/22/2012   \n",
       "2      Service was impeccable. Experience and present...           9/19/2012   \n",
       "3      The problem with places like this, given the e...            9/6/2012   \n",
       "4      I have no idea how to write my review - dining...            9/9/2012   \n",
       "...                                                  ...                 ...   \n",
       "67014  I've passed this place a bunch of times on my ...            4/7/2012   \n",
       "67015  Rubino's is not really setup as a retail opera...            6/5/2009   \n",
       "67016  This place is amazing.  The food is great and ...            5/6/2012   \n",
       "67017  OK went back the next day as I was driving by ...  Updated - 1/8/2011   \n",
       "67018  Delicious, rather authentic Mexican food, must...           1/25/2010   \n",
       "\n",
       "      flagged  \n",
       "0           N  \n",
       "1           N  \n",
       "2           N  \n",
       "3           N  \n",
       "4           N  \n",
       "...       ...  \n",
       "67014       N  \n",
       "67015       N  \n",
       "67016       N  \n",
       "67017       N  \n",
       "67018       N  \n",
       "\n",
       "[67019 rows x 10 columns]"
      ]
     },
     "metadata": {},
     "output_type": "display_data"
    }
   ],
   "source": [
    "response = s3.get_object(Bucket=bucketName, Key='datasets/tsv/review_training_raw.tsv')\n",
    "df = pd.read_csv(response.get(\"Body\"), \n",
    "                sep='\\t')\n",
    "df"
   ]
  },
  {
   "cell_type": "code",
   "execution_count": 7,
   "id": "a6b869e8-df02-4471-a820-306f597f44fb",
   "metadata": {
    "tags": []
   },
   "outputs": [
    {
     "data": {
      "application/vnd.jupyter.widget-view+json": {
       "model_id": "0e22aa81da1b457b8f6e7690d756b0b6"
      },
      "text/plain": [
       "                     review_id                 user_id  \\\n",
       "0       GtwU21YOQn-wf4vWRUIx6w  bNYesZ944s6IJVowOnB0iA   \n",
       "1                      0LpVTc3  TRKxLC3y-ZvP45e5iilMtw   \n",
       "2                tljtLzf68Fkwf  0EMm8umAqXZzyhxNpL4M9g   \n",
       "3                          iSN  DlwexC7z88ymAzu45skODw   \n",
       "4                       Jmwrh7  kW2dk1CWihmh3g7k9N2G8A   \n",
       "...                        ...                     ...   \n",
       "788463  wlRLaN_7uW8wUfWGN2VWaA  zZ7Jv1LONquJKkWT4VaSAw   \n",
       "788464  p4KYz4FE4bnkXdFZFyNM_Q  zZ7Jv1LONquJKkWT4VaSAw   \n",
       "788465  jqy-fe-EuFICjRbBwEA89g  zZ7Jv1LONquJKkWT4VaSAw   \n",
       "788466  D9IPwOicWnGY01A9MPwYjg  zZ7Jv1LONquJKkWT4VaSAw   \n",
       "788467  yg0vZJZ0vixQQXVdXJM64A  zZ7Jv1LONquJKkWT4VaSAw   \n",
       "\n",
       "                   business_id  stars  useful  cool  funny  \\\n",
       "0       pbEiXam9YJL3neCYHGwLUA      5       0     0      0   \n",
       "1       pbEiXam9YJL3neCYHGwLUA      5       0     0      0   \n",
       "2       pbEiXam9YJL3neCYHGwLUA      3       2     0      0   \n",
       "3       pbEiXam9YJL3neCYHGwLUA      3       8     0      3   \n",
       "4       pbEiXam9YJL3neCYHGwLUA      5       1     2      0   \n",
       "...                        ...    ...     ...   ...    ...   \n",
       "788463  ODxgfOWurWb0HjmshUTuTA      5       3     3      3   \n",
       "788464  pyZeiWGwzbb1jO1XS1iCeg      5       4     3      3   \n",
       "788465  UACRe1ZDEfK3DpTKciYGdg      4       2     0      0   \n",
       "788466  vEzJt2Ouq0KZcTNLk-KBgw      4       0     1      0   \n",
       "788467  A7TeDelZIgeaoENkXRKNFg      4       1     1      1   \n",
       "\n",
       "                                                     text       date type  \n",
       "0       Unlike Next, which we'd eaten at the previous ...  9/22/2012  str  \n",
       "1       Probably one of the best meals I've had ever. ...  9/22/2012  str  \n",
       "2       Service was impeccable. Experience and present...  9/19/2012  str  \n",
       "3       The problem with places like this, given the e...   9/6/2012  str  \n",
       "4       I have no idea how to write my review - dining...   9/9/2012  str  \n",
       "...                                                   ...        ...  ...  \n",
       "788463  Oh Yelp, how I love thee...let me count the wa...  8/11/2010  str  \n",
       "788464  I originally thought I'd give this place only ...  8/11/2010  str  \n",
       "788465  YUM! YUM! YUM!  My husband and I went here for...   8/5/2010  str  \n",
       "788466  A great neighborhood bar!  I wish I could have...   8/5/2010  str  \n",
       "788467  I mean, c'mon...it's a dive bar! And it's just...   8/5/2010  str  \n",
       "\n",
       "[788468 rows x 10 columns]"
      ]
     },
     "metadata": {},
     "output_type": "display_data"
    }
   ],
   "source": [
    "df['type'] = df['text'].map(getType)\n",
    "df"
   ]
  },
  {
   "cell_type": "code",
   "execution_count": 9,
   "id": "5f33c597-550d-41a1-8479-4293efd6750b",
   "metadata": {
    "tags": []
   },
   "outputs": [
    {
     "data": {
      "application/vnd.jupyter.widget-view+json": {
       "model_id": "b2cbe4314eae434d8f2dd6d7be38f5d0"
      },
      "text/plain": [
       "                     review_id                 user_id  \\\n",
       "0       GtwU21YOQn-wf4vWRUIx6w  bNYesZ944s6IJVowOnB0iA   \n",
       "1                      0LpVTc3  TRKxLC3y-ZvP45e5iilMtw   \n",
       "2                tljtLzf68Fkwf  0EMm8umAqXZzyhxNpL4M9g   \n",
       "3                          iSN  DlwexC7z88ymAzu45skODw   \n",
       "4                       Jmwrh7  kW2dk1CWihmh3g7k9N2G8A   \n",
       "...                        ...                     ...   \n",
       "788463  wlRLaN_7uW8wUfWGN2VWaA  zZ7Jv1LONquJKkWT4VaSAw   \n",
       "788464  p4KYz4FE4bnkXdFZFyNM_Q  zZ7Jv1LONquJKkWT4VaSAw   \n",
       "788465  jqy-fe-EuFICjRbBwEA89g  zZ7Jv1LONquJKkWT4VaSAw   \n",
       "788466  D9IPwOicWnGY01A9MPwYjg  zZ7Jv1LONquJKkWT4VaSAw   \n",
       "788467  yg0vZJZ0vixQQXVdXJM64A  zZ7Jv1LONquJKkWT4VaSAw   \n",
       "\n",
       "                   business_id  stars  useful  cool  funny  \\\n",
       "0       pbEiXam9YJL3neCYHGwLUA      5       0     0      0   \n",
       "1       pbEiXam9YJL3neCYHGwLUA      5       0     0      0   \n",
       "2       pbEiXam9YJL3neCYHGwLUA      3       2     0      0   \n",
       "3       pbEiXam9YJL3neCYHGwLUA      3       8     0      3   \n",
       "4       pbEiXam9YJL3neCYHGwLUA      5       1     2      0   \n",
       "...                        ...    ...     ...   ...    ...   \n",
       "788463  ODxgfOWurWb0HjmshUTuTA      5       3     3      3   \n",
       "788464  pyZeiWGwzbb1jO1XS1iCeg      5       4     3      3   \n",
       "788465  UACRe1ZDEfK3DpTKciYGdg      4       2     0      0   \n",
       "788466  vEzJt2Ouq0KZcTNLk-KBgw      4       0     1      0   \n",
       "788467  A7TeDelZIgeaoENkXRKNFg      4       1     1      1   \n",
       "\n",
       "                                                     text       date type  \n",
       "0       Unlike Next, which we'd eaten at the previous ...  9/22/2012  str  \n",
       "1       Probably one of the best meals I've had ever. ...  9/22/2012  str  \n",
       "2       Service was impeccable. Experience and present...  9/19/2012  str  \n",
       "3       The problem with places like this, given the e...   9/6/2012  str  \n",
       "4       I have no idea how to write my review - dining...   9/9/2012  str  \n",
       "...                                                   ...        ...  ...  \n",
       "788463  Oh Yelp, how I love thee...let me count the wa...  8/11/2010  str  \n",
       "788464  I originally thought I'd give this place only ...  8/11/2010  str  \n",
       "788465  YUM! YUM! YUM!  My husband and I went here for...   8/5/2010  str  \n",
       "788466  A great neighborhood bar!  I wish I could have...   8/5/2010  str  \n",
       "788467  I mean, c'mon...it's a dive bar! And it's just...   8/5/2010  str  \n",
       "\n",
       "[788467 rows x 10 columns]"
      ]
     },
     "metadata": {},
     "output_type": "display_data"
    }
   ],
   "source": [
    "# Pandas code generated by sagemaker_datawrangler\n",
    "output_df = (df).copy(deep=True)\n",
    "\n",
    "\n",
    "# Code to Drop missing for column: review_id to resolve warning: Missing values \n",
    "output_df = output_df[output_df['review_id'].notnull()]\n",
    "output_df"
   ]
  },
  {
   "cell_type": "code",
   "execution_count": 11,
   "id": "11ac502d-7543-4384-a02a-a0984f28b07a",
   "metadata": {
    "tags": []
   },
   "outputs": [],
   "source": [
    "output_df['text'] = output_df['text'].map(cleanText)"
   ]
  },
  {
   "cell_type": "code",
   "execution_count": 12,
   "id": "b3364458-e155-4518-ab40-ec9ce25ba1ce",
   "metadata": {
    "tags": []
   },
   "outputs": [
    {
     "data": {
      "application/vnd.jupyter.widget-view+json": {
       "model_id": "93e0ab8d02004388b75ab4000453740e"
      },
      "text/plain": [
       "                     review_id                 user_id  \\\n",
       "0       GtwU21YOQn-wf4vWRUIx6w  bNYesZ944s6IJVowOnB0iA   \n",
       "1                      0LpVTc3  TRKxLC3y-ZvP45e5iilMtw   \n",
       "2                tljtLzf68Fkwf  0EMm8umAqXZzyhxNpL4M9g   \n",
       "3                          iSN  DlwexC7z88ymAzu45skODw   \n",
       "4                       Jmwrh7  kW2dk1CWihmh3g7k9N2G8A   \n",
       "...                        ...                     ...   \n",
       "788463  wlRLaN_7uW8wUfWGN2VWaA  zZ7Jv1LONquJKkWT4VaSAw   \n",
       "788464  p4KYz4FE4bnkXdFZFyNM_Q  zZ7Jv1LONquJKkWT4VaSAw   \n",
       "788465  jqy-fe-EuFICjRbBwEA89g  zZ7Jv1LONquJKkWT4VaSAw   \n",
       "788466  D9IPwOicWnGY01A9MPwYjg  zZ7Jv1LONquJKkWT4VaSAw   \n",
       "788467  yg0vZJZ0vixQQXVdXJM64A  zZ7Jv1LONquJKkWT4VaSAw   \n",
       "\n",
       "                   business_id  stars  useful  cool  funny  \\\n",
       "0       pbEiXam9YJL3neCYHGwLUA      5       0     0      0   \n",
       "1       pbEiXam9YJL3neCYHGwLUA      5       0     0      0   \n",
       "2       pbEiXam9YJL3neCYHGwLUA      3       2     0      0   \n",
       "3       pbEiXam9YJL3neCYHGwLUA      3       8     0      3   \n",
       "4       pbEiXam9YJL3neCYHGwLUA      5       1     2      0   \n",
       "...                        ...    ...     ...   ...    ...   \n",
       "788463  ODxgfOWurWb0HjmshUTuTA      5       3     3      3   \n",
       "788464  pyZeiWGwzbb1jO1XS1iCeg      5       4     3      3   \n",
       "788465  UACRe1ZDEfK3DpTKciYGdg      4       2     0      0   \n",
       "788466  vEzJt2Ouq0KZcTNLk-KBgw      4       0     1      0   \n",
       "788467  A7TeDelZIgeaoENkXRKNFg      4       1     1      1   \n",
       "\n",
       "                                                     text       date type  \n",
       "0       Unlike Next which we'd eaten at the previous n...  9/22/2012  str  \n",
       "1       Probably one of the best meals I've had ever. ...  9/22/2012  str  \n",
       "2       Service was impeccable. Experience and present...  9/19/2012  str  \n",
       "3       The problem with places like this given the ex...   9/6/2012  str  \n",
       "4       I have no idea how to write my review  dining ...   9/9/2012  str  \n",
       "...                                                   ...        ...  ...  \n",
       "788463  Oh Yelp how I love thee...let me count the way...  8/11/2010  str  \n",
       "788464  I originally thought I'd give this place only ...  8/11/2010  str  \n",
       "788465  YUM! YUM! YUM! My husband and I went here for ...   8/5/2010  str  \n",
       "788466  A great neighborhood bar! I wish I could have ...   8/5/2010  str  \n",
       "788467  I mean c'mon...it's a dive bar! And it's just ...   8/5/2010  str  \n",
       "\n",
       "[788467 rows x 10 columns]"
      ]
     },
     "metadata": {},
     "output_type": "display_data"
    }
   ],
   "source": [
    "output_df"
   ]
  },
  {
   "cell_type": "code",
   "execution_count": null,
   "id": "d243ee05-af5e-4399-93fb-8f5e6d954143",
   "metadata": {},
   "outputs": [],
   "source": [
    "# Pandas code generated by sagemaker_datawrangler\n",
    "output_df = (output_df).copy(deep=True)\n",
    "\n",
    "\n",
    "# Code to Replace with new value for column: review_id to resolve warning: Disguised missing values \n",
    "generic_value = 'Other'\n",
    "output_df['review_id']=output_df['review_id'].replace('-', generic_value, regex=False)\n",
    "\n"
   ]
  },
  {
   "cell_type": "code",
   "execution_count": 31,
   "id": "2b7a2347-9c1e-4f05-bed0-68edc133d72a",
   "metadata": {
    "tags": []
   },
   "outputs": [],
   "source": [
    "import uuid\n",
    "df['review_id'] = [uuid.uuid4() for _ in range(len(df))]"
   ]
  },
  {
   "cell_type": "code",
   "execution_count": 32,
   "id": "c8b94c1f-e436-4055-a181-dd2d457b1108",
   "metadata": {
    "tags": []
   },
   "outputs": [],
   "source": [
    "df['text'] = df['text'].map(cleanText)"
   ]
  },
  {
   "cell_type": "code",
   "execution_count": 37,
   "id": "54820766-9366-4e21-b37f-a06d89cca4a1",
   "metadata": {
    "tags": []
   },
   "outputs": [],
   "source": [
    "df['flagged'] = pd.factorize(df['flagged'])[0]"
   ]
  },
  {
   "cell_type": "code",
   "execution_count": 38,
   "id": "514c00b0-0f0f-476b-9977-9b95093e5810",
   "metadata": {
    "tags": []
   },
   "outputs": [],
   "source": [
    "trimmed_df = df[['review_id', 'text', 'flagged']]"
   ]
  },
  {
   "cell_type": "code",
   "execution_count": 42,
   "id": "6880f98f-b5e6-4345-9a99-72e33d8a831d",
   "metadata": {
    "tags": []
   },
   "outputs": [
    {
     "name": "stdout",
     "output_type": "stream",
     "text": [
      "Writing full to  datasets/tsv/training_reviews_clean.tsv\n",
      "Writing full to  datasets/tsv/training_reviews_clean_trimmed.tsv\n"
     ]
    }
   ],
   "source": [
    "import io\n",
    "key = 'training_reviews_clean'\n",
    "tsvFullkey = 'datasets/tsv/' + key + '.tsv'\n",
    "print(\"Writing full to \", tsvFullkey)\n",
    "with io.StringIO() as tsv_buffer: #buffer to write the data\n",
    "    df.to_csv(tsv_buffer, sep=\"\\t\", index=False)\n",
    "    s3.put_object(Bucket=bucketName, Key=tsvFullkey, Body=tsv_buffer.getvalue())\n",
    "tsvTrimkey = 'datasets/tsv/' + key + '_trimmed.tsv'\n",
    "print(\"Writing full to \", tsvTrimkey)\n",
    "with io.StringIO() as tsv_buffer: #buffer to write the data\n",
    "    trimmed_df.to_csv(tsv_buffer, sep=\"\\t\", index=False)\n",
    "    s3.put_object(Bucket=bucketName, Key=tsvTrimkey, Body=tsv_buffer.getvalue())"
   ]
  },
  {
   "cell_type": "code",
   "execution_count": 39,
   "id": "cfd3a325-ee1d-4d7b-bff8-bee0d10cff51",
   "metadata": {},
   "outputs": [
    {
     "data": {
      "application/vnd.jupyter.widget-view+json": {
       "model_id": "e83255d00bf24980b5aebe5c08f72a15"
      },
      "text/plain": [
       "                                  review_id  \\\n",
       "0      ab58df3f-a1b3-40a1-af03-724c2db89f2a   \n",
       "1      42b8ed9b-3e0e-4df9-acd2-266828a84abc   \n",
       "2      fff42ce0-1e8d-4560-b961-97e8ef86e495   \n",
       "3      774cd776-8a68-42f6-a5bb-c1b7f3ff7396   \n",
       "4      f91991a1-c0b5-4ee4-8c6f-94d076c02420   \n",
       "...                                     ...   \n",
       "67014  60cf9b0a-a021-4443-a977-d839ea01ec4e   \n",
       "67015  fe3105ef-b98b-4f32-893a-8c33929c09d9   \n",
       "67016  0b008579-68af-45eb-8469-25b825c70768   \n",
       "67017  0ce3171f-f0ec-4345-a39d-c719d7c40a90   \n",
       "67018  4a9c04ce-d57c-4b2b-8c24-779c20347066   \n",
       "\n",
       "                                                    text  flagged  \n",
       "0      Unlike Next which we'd eaten at the previous n...        0  \n",
       "1      Probably one of the best meals I've had ever. ...        0  \n",
       "2      Service was impeccable. Experience and present...        0  \n",
       "3      The problem with places like this given the ex...        0  \n",
       "4      I have no idea how to write my review  dining ...        0  \n",
       "...                                                  ...      ...  \n",
       "67014  I've passed this place a bunch of times on my ...        0  \n",
       "67015  Rubino's is not really setup as a retail opera...        0  \n",
       "67016  This place is amazing. The food is great and y...        0  \n",
       "67017  OK went back the next day as I was driving by ...        0  \n",
       "67018  Delicious rather authentic Mexican food must t...        0  \n",
       "\n",
       "[67019 rows x 3 columns]"
      ]
     },
     "metadata": {},
     "output_type": "display_data"
    }
   ],
   "source": [
    "trimmed_df"
   ]
  },
  {
   "cell_type": "code",
   "execution_count": 41,
   "id": "0a0aad5c-2564-48e6-a297-f12af17d947c",
   "metadata": {
    "tags": []
   },
   "outputs": [
    {
     "data": {
      "text/plain": [
       "8303"
      ]
     },
     "execution_count": 41,
     "metadata": {},
     "output_type": "execute_result"
    }
   ],
   "source": [
    "len(trimmed_df.loc[trimmed_df['flagged']==1])"
   ]
  },
  {
   "cell_type": "code",
   "execution_count": null,
   "id": "1f478c80-13a5-4860-b13c-84047613c4aa",
   "metadata": {},
   "outputs": [],
   "source": []
  }
 ],
 "metadata": {
  "availableInstances": [
   {
    "_defaultOrder": 0,
    "_isFastLaunch": true,
    "category": "General purpose",
    "gpuNum": 0,
    "hideHardwareSpecs": false,
    "memoryGiB": 4,
    "name": "ml.t3.medium",
    "vcpuNum": 2
   },
   {
    "_defaultOrder": 1,
    "_isFastLaunch": false,
    "category": "General purpose",
    "gpuNum": 0,
    "hideHardwareSpecs": false,
    "memoryGiB": 8,
    "name": "ml.t3.large",
    "vcpuNum": 2
   },
   {
    "_defaultOrder": 2,
    "_isFastLaunch": false,
    "category": "General purpose",
    "gpuNum": 0,
    "hideHardwareSpecs": false,
    "memoryGiB": 16,
    "name": "ml.t3.xlarge",
    "vcpuNum": 4
   },
   {
    "_defaultOrder": 3,
    "_isFastLaunch": false,
    "category": "General purpose",
    "gpuNum": 0,
    "hideHardwareSpecs": false,
    "memoryGiB": 32,
    "name": "ml.t3.2xlarge",
    "vcpuNum": 8
   },
   {
    "_defaultOrder": 4,
    "_isFastLaunch": true,
    "category": "General purpose",
    "gpuNum": 0,
    "hideHardwareSpecs": false,
    "memoryGiB": 8,
    "name": "ml.m5.large",
    "vcpuNum": 2
   },
   {
    "_defaultOrder": 5,
    "_isFastLaunch": false,
    "category": "General purpose",
    "gpuNum": 0,
    "hideHardwareSpecs": false,
    "memoryGiB": 16,
    "name": "ml.m5.xlarge",
    "vcpuNum": 4
   },
   {
    "_defaultOrder": 6,
    "_isFastLaunch": false,
    "category": "General purpose",
    "gpuNum": 0,
    "hideHardwareSpecs": false,
    "memoryGiB": 32,
    "name": "ml.m5.2xlarge",
    "vcpuNum": 8
   },
   {
    "_defaultOrder": 7,
    "_isFastLaunch": false,
    "category": "General purpose",
    "gpuNum": 0,
    "hideHardwareSpecs": false,
    "memoryGiB": 64,
    "name": "ml.m5.4xlarge",
    "vcpuNum": 16
   },
   {
    "_defaultOrder": 8,
    "_isFastLaunch": false,
    "category": "General purpose",
    "gpuNum": 0,
    "hideHardwareSpecs": false,
    "memoryGiB": 128,
    "name": "ml.m5.8xlarge",
    "vcpuNum": 32
   },
   {
    "_defaultOrder": 9,
    "_isFastLaunch": false,
    "category": "General purpose",
    "gpuNum": 0,
    "hideHardwareSpecs": false,
    "memoryGiB": 192,
    "name": "ml.m5.12xlarge",
    "vcpuNum": 48
   },
   {
    "_defaultOrder": 10,
    "_isFastLaunch": false,
    "category": "General purpose",
    "gpuNum": 0,
    "hideHardwareSpecs": false,
    "memoryGiB": 256,
    "name": "ml.m5.16xlarge",
    "vcpuNum": 64
   },
   {
    "_defaultOrder": 11,
    "_isFastLaunch": false,
    "category": "General purpose",
    "gpuNum": 0,
    "hideHardwareSpecs": false,
    "memoryGiB": 384,
    "name": "ml.m5.24xlarge",
    "vcpuNum": 96
   },
   {
    "_defaultOrder": 12,
    "_isFastLaunch": false,
    "category": "General purpose",
    "gpuNum": 0,
    "hideHardwareSpecs": false,
    "memoryGiB": 8,
    "name": "ml.m5d.large",
    "vcpuNum": 2
   },
   {
    "_defaultOrder": 13,
    "_isFastLaunch": false,
    "category": "General purpose",
    "gpuNum": 0,
    "hideHardwareSpecs": false,
    "memoryGiB": 16,
    "name": "ml.m5d.xlarge",
    "vcpuNum": 4
   },
   {
    "_defaultOrder": 14,
    "_isFastLaunch": false,
    "category": "General purpose",
    "gpuNum": 0,
    "hideHardwareSpecs": false,
    "memoryGiB": 32,
    "name": "ml.m5d.2xlarge",
    "vcpuNum": 8
   },
   {
    "_defaultOrder": 15,
    "_isFastLaunch": false,
    "category": "General purpose",
    "gpuNum": 0,
    "hideHardwareSpecs": false,
    "memoryGiB": 64,
    "name": "ml.m5d.4xlarge",
    "vcpuNum": 16
   },
   {
    "_defaultOrder": 16,
    "_isFastLaunch": false,
    "category": "General purpose",
    "gpuNum": 0,
    "hideHardwareSpecs": false,
    "memoryGiB": 128,
    "name": "ml.m5d.8xlarge",
    "vcpuNum": 32
   },
   {
    "_defaultOrder": 17,
    "_isFastLaunch": false,
    "category": "General purpose",
    "gpuNum": 0,
    "hideHardwareSpecs": false,
    "memoryGiB": 192,
    "name": "ml.m5d.12xlarge",
    "vcpuNum": 48
   },
   {
    "_defaultOrder": 18,
    "_isFastLaunch": false,
    "category": "General purpose",
    "gpuNum": 0,
    "hideHardwareSpecs": false,
    "memoryGiB": 256,
    "name": "ml.m5d.16xlarge",
    "vcpuNum": 64
   },
   {
    "_defaultOrder": 19,
    "_isFastLaunch": false,
    "category": "General purpose",
    "gpuNum": 0,
    "hideHardwareSpecs": false,
    "memoryGiB": 384,
    "name": "ml.m5d.24xlarge",
    "vcpuNum": 96
   },
   {
    "_defaultOrder": 20,
    "_isFastLaunch": false,
    "category": "General purpose",
    "gpuNum": 0,
    "hideHardwareSpecs": true,
    "memoryGiB": 0,
    "name": "ml.geospatial.interactive",
    "supportedImageNames": [
     "sagemaker-geospatial-v1-0"
    ],
    "vcpuNum": 0
   },
   {
    "_defaultOrder": 21,
    "_isFastLaunch": true,
    "category": "Compute optimized",
    "gpuNum": 0,
    "hideHardwareSpecs": false,
    "memoryGiB": 4,
    "name": "ml.c5.large",
    "vcpuNum": 2
   },
   {
    "_defaultOrder": 22,
    "_isFastLaunch": false,
    "category": "Compute optimized",
    "gpuNum": 0,
    "hideHardwareSpecs": false,
    "memoryGiB": 8,
    "name": "ml.c5.xlarge",
    "vcpuNum": 4
   },
   {
    "_defaultOrder": 23,
    "_isFastLaunch": false,
    "category": "Compute optimized",
    "gpuNum": 0,
    "hideHardwareSpecs": false,
    "memoryGiB": 16,
    "name": "ml.c5.2xlarge",
    "vcpuNum": 8
   },
   {
    "_defaultOrder": 24,
    "_isFastLaunch": false,
    "category": "Compute optimized",
    "gpuNum": 0,
    "hideHardwareSpecs": false,
    "memoryGiB": 32,
    "name": "ml.c5.4xlarge",
    "vcpuNum": 16
   },
   {
    "_defaultOrder": 25,
    "_isFastLaunch": false,
    "category": "Compute optimized",
    "gpuNum": 0,
    "hideHardwareSpecs": false,
    "memoryGiB": 72,
    "name": "ml.c5.9xlarge",
    "vcpuNum": 36
   },
   {
    "_defaultOrder": 26,
    "_isFastLaunch": false,
    "category": "Compute optimized",
    "gpuNum": 0,
    "hideHardwareSpecs": false,
    "memoryGiB": 96,
    "name": "ml.c5.12xlarge",
    "vcpuNum": 48
   },
   {
    "_defaultOrder": 27,
    "_isFastLaunch": false,
    "category": "Compute optimized",
    "gpuNum": 0,
    "hideHardwareSpecs": false,
    "memoryGiB": 144,
    "name": "ml.c5.18xlarge",
    "vcpuNum": 72
   },
   {
    "_defaultOrder": 28,
    "_isFastLaunch": false,
    "category": "Compute optimized",
    "gpuNum": 0,
    "hideHardwareSpecs": false,
    "memoryGiB": 192,
    "name": "ml.c5.24xlarge",
    "vcpuNum": 96
   },
   {
    "_defaultOrder": 29,
    "_isFastLaunch": true,
    "category": "Accelerated computing",
    "gpuNum": 1,
    "hideHardwareSpecs": false,
    "memoryGiB": 16,
    "name": "ml.g4dn.xlarge",
    "vcpuNum": 4
   },
   {
    "_defaultOrder": 30,
    "_isFastLaunch": false,
    "category": "Accelerated computing",
    "gpuNum": 1,
    "hideHardwareSpecs": false,
    "memoryGiB": 32,
    "name": "ml.g4dn.2xlarge",
    "vcpuNum": 8
   },
   {
    "_defaultOrder": 31,
    "_isFastLaunch": false,
    "category": "Accelerated computing",
    "gpuNum": 1,
    "hideHardwareSpecs": false,
    "memoryGiB": 64,
    "name": "ml.g4dn.4xlarge",
    "vcpuNum": 16
   },
   {
    "_defaultOrder": 32,
    "_isFastLaunch": false,
    "category": "Accelerated computing",
    "gpuNum": 1,
    "hideHardwareSpecs": false,
    "memoryGiB": 128,
    "name": "ml.g4dn.8xlarge",
    "vcpuNum": 32
   },
   {
    "_defaultOrder": 33,
    "_isFastLaunch": false,
    "category": "Accelerated computing",
    "gpuNum": 4,
    "hideHardwareSpecs": false,
    "memoryGiB": 192,
    "name": "ml.g4dn.12xlarge",
    "vcpuNum": 48
   },
   {
    "_defaultOrder": 34,
    "_isFastLaunch": false,
    "category": "Accelerated computing",
    "gpuNum": 1,
    "hideHardwareSpecs": false,
    "memoryGiB": 256,
    "name": "ml.g4dn.16xlarge",
    "vcpuNum": 64
   },
   {
    "_defaultOrder": 35,
    "_isFastLaunch": false,
    "category": "Accelerated computing",
    "gpuNum": 1,
    "hideHardwareSpecs": false,
    "memoryGiB": 61,
    "name": "ml.p3.2xlarge",
    "vcpuNum": 8
   },
   {
    "_defaultOrder": 36,
    "_isFastLaunch": false,
    "category": "Accelerated computing",
    "gpuNum": 4,
    "hideHardwareSpecs": false,
    "memoryGiB": 244,
    "name": "ml.p3.8xlarge",
    "vcpuNum": 32
   },
   {
    "_defaultOrder": 37,
    "_isFastLaunch": false,
    "category": "Accelerated computing",
    "gpuNum": 8,
    "hideHardwareSpecs": false,
    "memoryGiB": 488,
    "name": "ml.p3.16xlarge",
    "vcpuNum": 64
   },
   {
    "_defaultOrder": 38,
    "_isFastLaunch": false,
    "category": "Accelerated computing",
    "gpuNum": 8,
    "hideHardwareSpecs": false,
    "memoryGiB": 768,
    "name": "ml.p3dn.24xlarge",
    "vcpuNum": 96
   },
   {
    "_defaultOrder": 39,
    "_isFastLaunch": false,
    "category": "Memory Optimized",
    "gpuNum": 0,
    "hideHardwareSpecs": false,
    "memoryGiB": 16,
    "name": "ml.r5.large",
    "vcpuNum": 2
   },
   {
    "_defaultOrder": 40,
    "_isFastLaunch": false,
    "category": "Memory Optimized",
    "gpuNum": 0,
    "hideHardwareSpecs": false,
    "memoryGiB": 32,
    "name": "ml.r5.xlarge",
    "vcpuNum": 4
   },
   {
    "_defaultOrder": 41,
    "_isFastLaunch": false,
    "category": "Memory Optimized",
    "gpuNum": 0,
    "hideHardwareSpecs": false,
    "memoryGiB": 64,
    "name": "ml.r5.2xlarge",
    "vcpuNum": 8
   },
   {
    "_defaultOrder": 42,
    "_isFastLaunch": false,
    "category": "Memory Optimized",
    "gpuNum": 0,
    "hideHardwareSpecs": false,
    "memoryGiB": 128,
    "name": "ml.r5.4xlarge",
    "vcpuNum": 16
   },
   {
    "_defaultOrder": 43,
    "_isFastLaunch": false,
    "category": "Memory Optimized",
    "gpuNum": 0,
    "hideHardwareSpecs": false,
    "memoryGiB": 256,
    "name": "ml.r5.8xlarge",
    "vcpuNum": 32
   },
   {
    "_defaultOrder": 44,
    "_isFastLaunch": false,
    "category": "Memory Optimized",
    "gpuNum": 0,
    "hideHardwareSpecs": false,
    "memoryGiB": 384,
    "name": "ml.r5.12xlarge",
    "vcpuNum": 48
   },
   {
    "_defaultOrder": 45,
    "_isFastLaunch": false,
    "category": "Memory Optimized",
    "gpuNum": 0,
    "hideHardwareSpecs": false,
    "memoryGiB": 512,
    "name": "ml.r5.16xlarge",
    "vcpuNum": 64
   },
   {
    "_defaultOrder": 46,
    "_isFastLaunch": false,
    "category": "Memory Optimized",
    "gpuNum": 0,
    "hideHardwareSpecs": false,
    "memoryGiB": 768,
    "name": "ml.r5.24xlarge",
    "vcpuNum": 96
   },
   {
    "_defaultOrder": 47,
    "_isFastLaunch": false,
    "category": "Accelerated computing",
    "gpuNum": 1,
    "hideHardwareSpecs": false,
    "memoryGiB": 16,
    "name": "ml.g5.xlarge",
    "vcpuNum": 4
   },
   {
    "_defaultOrder": 48,
    "_isFastLaunch": false,
    "category": "Accelerated computing",
    "gpuNum": 1,
    "hideHardwareSpecs": false,
    "memoryGiB": 32,
    "name": "ml.g5.2xlarge",
    "vcpuNum": 8
   },
   {
    "_defaultOrder": 49,
    "_isFastLaunch": false,
    "category": "Accelerated computing",
    "gpuNum": 1,
    "hideHardwareSpecs": false,
    "memoryGiB": 64,
    "name": "ml.g5.4xlarge",
    "vcpuNum": 16
   },
   {
    "_defaultOrder": 50,
    "_isFastLaunch": false,
    "category": "Accelerated computing",
    "gpuNum": 1,
    "hideHardwareSpecs": false,
    "memoryGiB": 128,
    "name": "ml.g5.8xlarge",
    "vcpuNum": 32
   },
   {
    "_defaultOrder": 51,
    "_isFastLaunch": false,
    "category": "Accelerated computing",
    "gpuNum": 1,
    "hideHardwareSpecs": false,
    "memoryGiB": 256,
    "name": "ml.g5.16xlarge",
    "vcpuNum": 64
   },
   {
    "_defaultOrder": 52,
    "_isFastLaunch": false,
    "category": "Accelerated computing",
    "gpuNum": 4,
    "hideHardwareSpecs": false,
    "memoryGiB": 192,
    "name": "ml.g5.12xlarge",
    "vcpuNum": 48
   },
   {
    "_defaultOrder": 53,
    "_isFastLaunch": false,
    "category": "Accelerated computing",
    "gpuNum": 4,
    "hideHardwareSpecs": false,
    "memoryGiB": 384,
    "name": "ml.g5.24xlarge",
    "vcpuNum": 96
   },
   {
    "_defaultOrder": 54,
    "_isFastLaunch": false,
    "category": "Accelerated computing",
    "gpuNum": 8,
    "hideHardwareSpecs": false,
    "memoryGiB": 768,
    "name": "ml.g5.48xlarge",
    "vcpuNum": 192
   },
   {
    "_defaultOrder": 55,
    "_isFastLaunch": false,
    "category": "Accelerated computing",
    "gpuNum": 8,
    "hideHardwareSpecs": false,
    "memoryGiB": 1152,
    "name": "ml.p4d.24xlarge",
    "vcpuNum": 96
   },
   {
    "_defaultOrder": 56,
    "_isFastLaunch": false,
    "category": "Accelerated computing",
    "gpuNum": 8,
    "hideHardwareSpecs": false,
    "memoryGiB": 1152,
    "name": "ml.p4de.24xlarge",
    "vcpuNum": 96
   }
  ],
  "kernelspec": {
   "display_name": "Python 3 (Data Science)",
   "language": "python",
   "name": "python3__SAGEMAKER_INTERNAL__arn:aws:sagemaker:us-east-1:081325390199:image/datascience-1.0"
  },
  "language_info": {
   "codemirror_mode": {
    "name": "ipython",
    "version": 3
   },
   "file_extension": ".py",
   "mimetype": "text/x-python",
   "name": "python",
   "nbconvert_exporter": "python",
   "pygments_lexer": "ipython3",
   "version": "3.7.10"
  }
 },
 "nbformat": 4,
 "nbformat_minor": 5
}
